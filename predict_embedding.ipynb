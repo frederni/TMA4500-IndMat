{
 "cells": [
  {
   "cell_type": "markdown",
   "metadata": {},
   "source": [
    "# Building a recommender system with embedding"
   ]
  },
  {
   "cell_type": "code",
   "execution_count": 1,
   "metadata": {},
   "outputs": [
    {
     "data": {
      "text/html": [
       "\n",
       "                <script type=\"application/javascript\" id=\"jupyter_black\">\n",
       "                (function() {\n",
       "                    if (window.IPython === undefined) {\n",
       "                        return\n",
       "                    }\n",
       "                    var msg = \"WARNING: it looks like you might have loaded \" +\n",
       "                        \"jupyter_black in a non-lab notebook with \" +\n",
       "                        \"`is_lab=True`. Please double check, and if \" +\n",
       "                        \"loading with `%load_ext` please review the README!\"\n",
       "                    console.log(msg)\n",
       "                    alert(msg)\n",
       "                })()\n",
       "                </script>\n",
       "                "
      ],
      "text/plain": [
       "<IPython.core.display.HTML object>"
      ]
     },
     "metadata": {},
     "output_type": "display_data"
    }
   ],
   "source": [
    "%reload_ext jupyter_black"
   ]
  },
  {
   "cell_type": "code",
   "execution_count": 2,
   "metadata": {},
   "outputs": [],
   "source": [
    "# Cleaning up the datasets\n",
    "from typing import Iterable\n",
    "import pandas as pd\n",
    "import os\n",
    "import numpy as np\n",
    "import torch\n",
    "from torch.utils.data import DataLoader, Dataset\n",
    "from typing import Tuple, Any\n",
    "import sklearn.model_selection\n",
    "\n",
    "\n",
    "def load_min_data(filename: str | Iterable):\n",
    "    dfs = []\n",
    "    if isinstance(filename, str):\n",
    "        filename = [filename]\n",
    "    for fn in filename:\n",
    "        df = pd.read_csv(fn)\n",
    "        # All min-datasets have an index column which has to be dropped:\n",
    "        dfs.append(df.drop(df.columns[0], axis=1))\n",
    "    return dfs\n",
    "\n",
    "\n",
    "def clean_customer_data(df):\n",
    "    # df = df.drop(\"FN\", axis=1) # I they're not exactly equal\n",
    "    df.loc[\n",
    "        ~df[\"fashion_news_frequency\"].isin([\"Regularly\", \"Monthly\"]),\n",
    "        \"fashion_news_frequency\",\n",
    "    ] = \"None\"\n",
    "    return df"
   ]
  },
  {
   "cell_type": "markdown",
   "metadata": {},
   "source": [
    "Due to the size of the data, it's important to generate negative labels in an efficient way. The function `pandas.DataFrame.sample()` takes almost five seconds for each sample, which is called at least `n_negative` times, we instead transform the dataframe to a NumPy array. Below is a comparison to highlight the importance of working with simpler objects."
   ]
  },
  {
   "cell_type": "code",
   "execution_count": 3,
   "metadata": {},
   "outputs": [],
   "source": [
    "def time_pd_vs_np(n_negative, df) -> Tuple[float, float]:\n",
    "    \"\"\"Compute time it takes to sample n_negative negative transactions\n",
    "\n",
    "    Args:\n",
    "        n_negative (int): Number of negative samples\n",
    "        df (pd.DataFrame): Dataframe to sample from, requires columns 'customer_id' and 'article_id'\n",
    "\n",
    "    Returns:\n",
    "        Tuple[float, float]: Time taken using Pandas objects (first value) and NumPy objects (second value)\n",
    "    \"\"\"\n",
    "    import time\n",
    "\n",
    "    start_pd = time.time()\n",
    "    num_written = 0\n",
    "    tmpStr = \"customer_id,article_id\\n\"\n",
    "    while num_written < n_negative:\n",
    "        # Choose random customer and article\n",
    "        selection = np.array(\n",
    "            [\n",
    "                df[\"customer_id\"].sample().values,\n",
    "                df[\"article_id\"].sample().values,\n",
    "            ]\n",
    "        ).flatten()\n",
    "        if not (\n",
    "            (df[\"customer_id\"] == selection[0]) & (df[\"article_id\"] == selection[1])\n",
    "        ).any():\n",
    "            tmpStr += f\"{selection[0]}, {selection[1]}\\n\"\n",
    "            num_written += 1\n",
    "    with open(\"tmp.csv\", \"w\") as f:\n",
    "        f.write(tmpStr)\n",
    "    df_negative = pd.read_csv(\"tmp.csv\")\n",
    "    os.remove(\"tmp.csv\")\n",
    "    time_pd = time.time() - start_pd\n",
    "\n",
    "    # Numpy method\n",
    "    start_np = time.time()\n",
    "    df_np = df[[\"customer_id\", \"article_id\"]].to_numpy()\n",
    "    neg_np = np.empty((n_negative, df_np.shape[1]), dtype=\"<U64\")\n",
    "    for i in range(n_negative):\n",
    "        legit = False\n",
    "        while not legit:\n",
    "            sample = [np.random.choice(df_np[:, col]) for col in range(df_np.shape[1])]\n",
    "            legit = not ((df_np[:, 0] == sample[0]) & (df_np[:, 1] == sample[1])).any()\n",
    "        neg_np[i, :] = sample\n",
    "    time_np = time.time() - start_np\n",
    "\n",
    "    return time_pd, time_np\n",
    "\n",
    "\n",
    "def plot_negative_sampling(\n",
    "    start: int,\n",
    "    stop: int,\n",
    "    step: int = 1,\n",
    "    filename: str | None = None,\n",
    "    persist_data: bool = True,\n",
    "    cont_from_checkpoint: bool = True,\n",
    ") -> None:\n",
    "    \"\"\"Plot the outputs of `time_pd_vs_np` for different ranges of n_negative\n",
    "\n",
    "    Args:\n",
    "        start (int): Range of n_negative (inclusive)\n",
    "        stop (int): Range of n_negative (exclusive)\n",
    "        step (int, optional): Step in range of n_negative. Defaults to 1.\n",
    "        filename (str | None, optional): Plot output file name, if None, does not save file. Defaults to None.\n",
    "        persist_data (bool, optional): Serialization option to store each iterate's result. Defaults to True.\n",
    "        cont_from_checkpoint (bool, optional): Reads previous runs and doesn't recompute if done before.\n",
    "                                                Defaults to True.\n",
    "    \"\"\"\n",
    "    import matplotlib.pyplot as plt\n",
    "    from tqdm import tqdm\n",
    "    import pickle\n",
    "\n",
    "    xax = list(range(start, stop, step))\n",
    "\n",
    "    if cont_from_checkpoint:\n",
    "        with open(\"plotData.pckl\", \"rb\") as f:\n",
    "            plot_values = pickle.load(f)\n",
    "\n",
    "        # Add empty list for keys not covered by checkpoint:\n",
    "        computed = set([x_i for x_i in plot_values.keys()])\n",
    "        to_add = set(xax) - computed\n",
    "        for elem in to_add:\n",
    "            plot_values[elem] = []\n",
    "\n",
    "        # Skip those already computed\n",
    "        xax = [x for x in xax if x not in computed]\n",
    "\n",
    "    else:\n",
    "        plot_values = {x_i: [] for x_i in xax}\n",
    "\n",
    "    for n_negative in tqdm(xax):\n",
    "        time_pd, time_np = time_pd_vs_np(n_negative)\n",
    "        plot_values[n_negative].extend([time_pd, time_np])\n",
    "\n",
    "        if persist_data:\n",
    "            with open(\"plotData.pckl\", \"wb\") as f:\n",
    "                pickle.dump(plot_values, f)\n",
    "\n",
    "    plt.plot(\n",
    "        plot_values.keys(),\n",
    "        plot_values.values(),\n",
    "        label=[\n",
    "            \"pandas.DataFrame.sample implementation\",\n",
    "            \"NumPy.random.choice implementation\",\n",
    "        ],\n",
    "    )\n",
    "    plt.legend()\n",
    "    plt.xlabel(\"Number of negative (generated) samples\")\n",
    "    plt.ylabel(\"Time [s]\")\n",
    "    plt.title(\"Comparison between sampling methods time\")\n",
    "    if filename is not None:\n",
    "        plt.savefig(f\"{filename}.pdf\")\n",
    "    plt.show()\n",
    "\n",
    "\n",
    "# plot_negative_sampling(\n",
    "#     start=1,\n",
    "#     stop=50,\n",
    "#     step=1,\n",
    "#     filename=\"Comp_1_to_50\",\n",
    "#     persist_data=True,\n",
    "#     cont_from_checkpoint=True,\n",
    "# )"
   ]
  },
  {
   "cell_type": "code",
   "execution_count": 4,
   "metadata": {},
   "outputs": [],
   "source": [
    "# Data loading\n",
    "from sklearn.preprocessing import LabelEncoder\n",
    "\n",
    "\n",
    "class Data_HM(Dataset):\n",
    "    \"\"\"This is the general HM Dataset class whose children are train-dataset and validation-dataset\n",
    "    no\n",
    "\n",
    "    Args:\n",
    "        Dataset: Abstract Dataset class from pyTorch\n",
    "    \"\"\"\n",
    "\n",
    "    def __init__(\n",
    "        self,\n",
    "        total_cases: int,\n",
    "        portion_negatives: float,\n",
    "        df_transactions: pd.DataFrame,\n",
    "        df_articles: pd.DataFrame,\n",
    "        df_customers: pd.DataFrame,\n",
    "        batch_size: int,\n",
    "        train_portion: float | None = None,\n",
    "        test_portion: float | None = None,\n",
    "        transform: Any = None,\n",
    "        target_transform: Any = None,\n",
    "    ) -> None:\n",
    "        super().__init__()\n",
    "        if train_portion is None:\n",
    "            if test_portion is None:\n",
    "                raise ValueError(\"Both train portion and test portion cannot be None.\")\n",
    "            self.train_portion = 1 - test_portion\n",
    "        self.batch_size = batch_size\n",
    "        self.df_id = self.generate_dataset(\n",
    "            total_cases, portion_negatives, df_transactions\n",
    "        )\n",
    "        self.train_portion = train_portion\n",
    "        self.train, self.val = self.split_dataset()\n",
    "        self.transform, self.target_transform = transform, target_transform\n",
    "\n",
    "    def generate_dataset(\n",
    "        self, total_cases: int, portion_negatives: float, df_transactions: pd.DataFrame\n",
    "    ) -> Tuple[pd.DataFrame, pd.DataFrame]:\n",
    "        \"\"\"Produce DataFrames for positive labels and generated negative samples\n",
    "\n",
    "        Args:\n",
    "            total_cases (int): Total number of transactions\n",
    "            portion_negatives (float): The portion of the `total_cases` that should be negative. Balanced 0/1 when 0.5\n",
    "            df_transactions (pd.DataFrame): Transactions to pull samples/generate samples from\n",
    "\n",
    "        Returns:\n",
    "            Tuple[pd.DataFrame, pd.DataFrame]: _description_\n",
    "        \"\"\"\n",
    "        assert (\n",
    "            0 <= portion_negatives <= 1\n",
    "        ), r\"portion negatives must be a float between 0%=0.0 and 100%=1.0!\"\n",
    "        n_positive = round(total_cases * (1 - portion_negatives))\n",
    "        n_negative = total_cases - n_positive\n",
    "\n",
    "        df_positive = df_transactions.sample(n=n_positive).reset_index(drop=True)\n",
    "        df_positive = df_positive[[\"customer_id\", \"article_id\"]]\n",
    "        df_positive[\"label\"] = 1\n",
    "\n",
    "        # Sampling negative labels:\n",
    "        #   We select a random combination of `customer_id`, `article_id`, and ensure that this is not a true transaction.\n",
    "        #   Then we make a 2-column dataframe on same form as `df_positive`\n",
    "\n",
    "        df_np = df_transactions[[\"customer_id\", \"article_id\"]].to_numpy()\n",
    "        neg_np = np.empty((n_negative, df_np.shape[1]), dtype=\"<U64\")\n",
    "        for i in range(n_negative):\n",
    "            legit = False\n",
    "            while not legit:\n",
    "                sample = [\n",
    "                    np.random.choice(df_np[:, col]) for col in range(df_np.shape[1])\n",
    "                ]\n",
    "                legit = not (\n",
    "                    (df_np[:, 0] == sample[0]) & (df_np[:, 1] == sample[1])\n",
    "                ).any()\n",
    "            neg_np[i, :] = sample\n",
    "        neg_np = np.column_stack((neg_np, [0] * neg_np.shape[0]))\n",
    "        df_negative = pd.DataFrame(neg_np, columns=df_positive.columns)\n",
    "        # Return a shuffled concatenation of the two dataframes\n",
    "        full_data = (\n",
    "            pd.concat((df_positive, df_negative)).sample(frac=1).reset_index(drop=True)\n",
    "        )\n",
    "\n",
    "        # Make label encodings of the IDs\n",
    "        le_cust = LabelEncoder()\n",
    "        le_art = LabelEncoder()\n",
    "        le_cust.fit(full_data[\"customer_id\"])\n",
    "        le_art.fit(full_data[\"article_id\"])\n",
    "        cust_encode = le_cust.transform(full_data[\"customer_id\"])\n",
    "        art_encode = le_art.transform(full_data[\"article_id\"])\n",
    "        return pd.DataFrame(\n",
    "            data={\n",
    "                \"customer_id\": cust_encode,\n",
    "                \"article_id\": art_encode,\n",
    "                \"label\": full_data[\"label\"].astype(np.uint8),\n",
    "            }\n",
    "        )\n",
    "\n",
    "    def __len__(self):\n",
    "        return len(self.df_id.index)\n",
    "\n",
    "    def __getitem__(self, idx):\n",
    "        row, label = self.df_id.iloc[idx, :-1].values, self.df_id.iloc[idx, -1]\n",
    "        label = int(label)  # Stored as str initially\n",
    "        if self.transform:\n",
    "            row = self.transform(row)\n",
    "        if self.target_transform:\n",
    "            label = self.target_transform(label)\n",
    "        return row, label\n",
    "\n",
    "    def split_dataset(self):\n",
    "        \"\"\"Split full data to train and validation Subset-objects\n",
    "\n",
    "        Returns:\n",
    "            Tuple[Subset, Subset]: Train and validation subsets\n",
    "        \"\"\"\n",
    "        length = len(self)\n",
    "        train_size = int(length * self.train_portion)\n",
    "        valid_size = length - train_size\n",
    "        train, val = torch.utils.data.random_split(self, [train_size, valid_size])\n",
    "        return train, val\n",
    "\n",
    "    def get_data_from_subset(self, subset: torch.utils.data.Subset):\n",
    "        \"\"\"Not in use currently, but can retrieve data from Subset object directly\"\"\"\n",
    "        return subset.dataset.df_id.iloc[subset.indices]\n",
    "\n",
    "    def get_DataLoader(self, trainDL: bool = True):\n",
    "        subset = self.train if trainDL else self.val\n",
    "        return DataLoader(dataset=subset, batch_size=self.batch_size)"
   ]
  },
  {
   "cell_type": "code",
   "execution_count": 5,
   "metadata": {},
   "outputs": [],
   "source": [
    "# Embedding model (same model as Mind Data example)\n",
    "\n",
    "\n",
    "class HM_model(torch.nn.Module):\n",
    "    def __init__(self, num_customer, num_articles, embedding_size):\n",
    "        super(HM_model, self).__init__()\n",
    "        self.customer_embed = torch.nn.Embedding(\n",
    "            num_embeddings=num_customer, embedding_dim=embedding_size\n",
    "        )\n",
    "        self.art_embed = torch.nn.Embedding(\n",
    "            num_embeddings=num_articles, embedding_dim=embedding_size\n",
    "        )\n",
    "        self.customer_bias = torch.nn.Embedding(num_customer, 1)\n",
    "        self.article_bias = torch.nn.Embedding(num_articles, 1)\n",
    "\n",
    "    def forward(self, customer_row, article_row):\n",
    "        customer_embed = self.customer_embed(customer_row)\n",
    "        art_embed = self.art_embed(article_row)\n",
    "        # dot_prod_old = torch.sum(torch.mul(customer_embed, art_embed), 1)\n",
    "        dot_prod = (customer_embed * art_embed).sum(dim=1, keepdim=True)\n",
    "        # Add bias nodes to model:\n",
    "        dot_prod = (\n",
    "            dot_prod + self.customer_bias(customer_row) + self.article_bias(article_row)\n",
    "        )\n",
    "        return torch.sigmoid(dot_prod)"
   ]
  },
  {
   "cell_type": "code",
   "execution_count": 29,
   "metadata": {},
   "outputs": [],
   "source": [
    "from tqdm import tqdm\n",
    "from datetime import datetime\n",
    "\n",
    "\n",
    "def train_one_epoch(\n",
    "    model: HM_model,\n",
    "    data: Data_HM,\n",
    "    epoch_num: int,\n",
    "    optimizer,\n",
    "    loss,\n",
    "    lr_scheduler,\n",
    "    verbose: bool = False,\n",
    "):\n",
    "    epoch_loss = 0\n",
    "    device = \"cuda\" if torch.cuda.is_available() else \"cpu\"\n",
    "    for item in data.get_DataLoader(trainDL=True):\n",
    "        item = tuple(t.to(device) for t in item)\n",
    "        row, label = item\n",
    "        optimizer.zero_grad()\n",
    "        pred = model(row[:, 0], row[:, 1])\n",
    "        loss_value = loss(pred.view(-1), torch.FloatTensor(label.tolist()).to(device))\n",
    "        loss_value.backward()\n",
    "        optimizer.step()\n",
    "        epoch_loss += loss_value\n",
    "    if verbose:\n",
    "        print(f\"\\t| Training loss for epoch {epoch_num+1}: {epoch_loss}\")\n",
    "    return epoch_loss\n",
    "\n",
    "\n",
    "def train(model, data, params):\n",
    "    device = \"cuda\" if torch.cuda.is_available() else \"cpu\"\n",
    "    # Uses binary cross entropy at the moment\n",
    "    loss_metric = torch.nn.BCELoss().to(device)\n",
    "    optimizer = params.optimizer(\n",
    "        model.parameters(), lr=params.lr_rate, weight_decay=params.weight_decay\n",
    "    )\n",
    "    # Adjust lr once model stops improving using scheduler\n",
    "    lr_scheduler = torch.optim.lr_scheduler.ReduceLROnPlateau(optimizer)\n",
    "    save_loss = params.save_loss\n",
    "    if save_loss:\n",
    "        train_losses = []\n",
    "        valid_losses = []\n",
    "        # Settings not in use atm but we can get the hyperparams from it:))\n",
    "        settings = \",\".join([str(v) for v in params.__dict__.values()])\n",
    "    for epoch in tqdm(range(params.epochs)):\n",
    "        model.train()\n",
    "        epoch_loss = train_one_epoch(\n",
    "            model, data, epoch, optimizer, loss_metric, lr_scheduler, params.verbose\n",
    "        )\n",
    "        if not epoch % params.validation_frequency:\n",
    "            # Validate step\n",
    "            model.eval()\n",
    "            valid_loss = 0.0\n",
    "            for item in data.get_DataLoader(trainDL=False):\n",
    "                item = tuple(t.to(device) for t in item)\n",
    "                row, label = item\n",
    "                pred = model(row[:, 0], row[:, 1])\n",
    "                loss = loss_metric(\n",
    "                    pred.view(-1), torch.FloatTensor(label.tolist()).to(device)\n",
    "                )\n",
    "                valid_loss = loss.item() * row.size(0)\n",
    "\n",
    "            lr_scheduler.step(valid_loss)  # Update lr scheduler\n",
    "            if params.verbose:\n",
    "                print(f\"Provisory results for epoch {epoch+1}:\")\n",
    "                print(\n",
    "                    \"Loss for training set\",\n",
    "                    epoch_loss.tolist() / len(data.get_DataLoader(trainDL=True)),\n",
    "                    sep=\"\\t\",\n",
    "                )\n",
    "                print(\n",
    "                    \"Loss for validation set\",\n",
    "                    valid_loss / len(data.get_DataLoader(trainDL=False)),\n",
    "                    sep=\"\\t\",\n",
    "                )\n",
    "                print(\"-\" * 20)\n",
    "            if save_loss:\n",
    "                train_losses.append(epoch_loss.tolist())\n",
    "                valid_losses.append(valid_loss)\n",
    "    if save_loss:\n",
    "        fn_append = save_loss if isinstance(save_loss, str) else \"\"\n",
    "        save_dir = os.path.join(\"results\", datetime.today().strftime(\"%Y.%m.%d.%H.%M\"))\n",
    "        if not os.path.isdir(save_dir):\n",
    "            os.makedirs(save_dir)\n",
    "        np.savetxt(\n",
    "            os.path.join(save_dir, f\"losses_{fn_append}.csv\"),\n",
    "            np.transpose([train_losses, valid_losses]),\n",
    "            delimiter=\",\",\n",
    "        )\n",
    "\n",
    "\n",
    "import utils.metrics as metric\n",
    "import importlib\n",
    "\n",
    "importlib.reload(metric)  # To caputre changes in metrics module\n",
    "\n",
    "\n",
    "def save_dataset_obj(data: HM_model, dst: str) -> None:\n",
    "    import pickle, os\n",
    "\n",
    "    if not os.path.isdir(os.path.dirname(dst)):\n",
    "        os.makedirs(os.path.dirname(dst))\n",
    "    with open(dst, \"wb\") as f:\n",
    "        pickle.dump(data, f)\n",
    "\n",
    "\n",
    "def read_dataset_obj(src: str) -> Any:\n",
    "    import pickle\n",
    "\n",
    "    with open(src, \"rb\") as f:\n",
    "        data = pickle.load(f)\n",
    "    return data\n",
    "\n",
    "\n",
    "def plot_loss_results(lossfile):\n",
    "    res = pd.read_csv(lossfile, header=None)\n",
    "    plt.plot(res[0], label=\"Training loss\")\n",
    "    plt.plot(res[1], label=\"Validation loss\")\n",
    "    plt.xlabel(\"Epoch number\")\n",
    "    plt.ylabel(\"Loss value\")\n",
    "    plt.show()"
   ]
  },
  {
   "cell_type": "code",
   "execution_count": 30,
   "metadata": {},
   "outputs": [],
   "source": [
    "from dataclasses import dataclass, asdict\n",
    "from tabnanny import verbose\n",
    "from typing import Any\n",
    "\n",
    "\n",
    "@dataclass\n",
    "class Hyperparameters:\n",
    "    lr_rate: float = 1e-3  # TODO consider dynamically changing lr\n",
    "    weight_decay: str = 1e-5\n",
    "    epochs: int = 100\n",
    "    validation_frequency: int = 1\n",
    "    optimizer: Any = torch.optim.Adam\n",
    "    embedding_size: int = 500\n",
    "    save_loss: bool | str = True\n",
    "    verbose: bool = False\n",
    "    # Add more here...\n",
    "\n",
    "\n",
    "def main(\n",
    "    use_min_dataset: bool = False,\n",
    "    persisted_dataset_path: str | None = None,\n",
    "    hyperparams=Hyperparameters(),\n",
    "):\n",
    "\n",
    "    # Load data\n",
    "    if use_min_dataset:\n",
    "        df_c, df_a, df_t = load_min_data(\n",
    "            [\n",
    "                f\"dataset_sample/{n}_min.csv\"\n",
    "                for n in (\"customer\", \"articles\", \"transactions\")\n",
    "            ]\n",
    "        )\n",
    "    if persisted_dataset_path is None:\n",
    "        df_c = pd.read_csv(\"dataset/customers.csv\")\n",
    "        # Articles IDs all start with 0 which disappears if cast to a number\n",
    "        df_a = pd.read_csv(\"dataset/articles.csv\", dtype={\"article_id\": str})\n",
    "        df_t = pd.read_csv(\"dataset/transactions_train.csv\", dtype={\"article_id\": str})\n",
    "        df_c = clean_customer_data(df_c)\n",
    "\n",
    "        dataset_params = {\n",
    "            \"total_cases\": 2000,\n",
    "            \"portion_negatives\": 0.9,\n",
    "            \"df_transactions\": df_t,\n",
    "            \"df_articles\": df_a,\n",
    "            \"df_customers\": df_c,\n",
    "            \"train_portion\": 0.7,\n",
    "            \"batch_size\": 5,\n",
    "        }\n",
    "        data = Data_HM(**dataset_params)\n",
    "    else:\n",
    "        data = read_dataset_obj(persisted_dataset_path)\n",
    "    n_cust, n_art, _ = data.df_id.nunique()\n",
    "    device = \"cuda\" if torch.cuda.is_available() else \"cpu\"\n",
    "    model = HM_model(\n",
    "        num_customer=n_cust,\n",
    "        num_articles=n_art,\n",
    "        embedding_size=hyperparams.embedding_size,\n",
    "    )\n",
    "    model = model.to(device)\n",
    "\n",
    "    train(model, data, hyperparams)\n",
    "\n",
    "    # Train, eval, save results and weights...\n",
    "\n",
    "\n",
    "# main(persisted_dataset_path=\"object_storage/HM_data.pckl\")"
   ]
  },
  {
   "cell_type": "code",
   "execution_count": 12,
   "metadata": {},
   "outputs": [],
   "source": [
    "import matplotlib.pyplot as plt\n",
    "\n",
    "# plot_loss_results(\"results/2022.10.19.11.44/losses.csv\")"
   ]
  },
  {
   "cell_type": "code",
   "execution_count": 31,
   "metadata": {},
   "outputs": [
    {
     "name": "stdout",
     "output_type": "stream",
     "text": [
      "Testing EMBEDDING SIZE\n",
      "emb_size = 10\n"
     ]
    },
    {
     "name": "stderr",
     "output_type": "stream",
     "text": [
      "100%|██████████| 100/100 [01:37<00:00,  1.02it/s]\n"
     ]
    },
    {
     "name": "stdout",
     "output_type": "stream",
     "text": [
      "emb_size = 100\n"
     ]
    },
    {
     "name": "stderr",
     "output_type": "stream",
     "text": [
      "100%|██████████| 100/100 [01:30<00:00,  1.10it/s]\n"
     ]
    },
    {
     "name": "stdout",
     "output_type": "stream",
     "text": [
      "emb_size = 500\n"
     ]
    },
    {
     "name": "stderr",
     "output_type": "stream",
     "text": [
      "100%|██████████| 100/100 [01:28<00:00,  1.12it/s]\n"
     ]
    },
    {
     "name": "stdout",
     "output_type": "stream",
     "text": [
      "emb_size = 1000\n"
     ]
    },
    {
     "name": "stderr",
     "output_type": "stream",
     "text": [
      "100%|██████████| 100/100 [01:26<00:00,  1.15it/s]\n"
     ]
    },
    {
     "name": "stdout",
     "output_type": "stream",
     "text": [
      "emb_size = 10000\n"
     ]
    },
    {
     "name": "stderr",
     "output_type": "stream",
     "text": [
      "100%|██████████| 100/100 [05:51<00:00,  3.51s/it]\n"
     ]
    },
    {
     "name": "stdout",
     "output_type": "stream",
     "text": [
      "Testing WEIGHT DECAYS\n",
      "wd = 0.0001\n"
     ]
    },
    {
     "name": "stderr",
     "output_type": "stream",
     "text": [
      "100%|██████████| 100/100 [01:24<00:00,  1.18it/s]\n"
     ]
    },
    {
     "name": "stdout",
     "output_type": "stream",
     "text": [
      "wd = 0.001\n"
     ]
    },
    {
     "name": "stderr",
     "output_type": "stream",
     "text": [
      "100%|██████████| 100/100 [01:24<00:00,  1.18it/s]\n"
     ]
    },
    {
     "name": "stdout",
     "output_type": "stream",
     "text": [
      "wd = 0.01\n"
     ]
    },
    {
     "name": "stderr",
     "output_type": "stream",
     "text": [
      "100%|██████████| 100/100 [01:28<00:00,  1.12it/s]\n"
     ]
    },
    {
     "name": "stdout",
     "output_type": "stream",
     "text": [
      "wd = 0.1\n"
     ]
    },
    {
     "name": "stderr",
     "output_type": "stream",
     "text": [
      "100%|██████████| 100/100 [01:28<00:00,  1.13it/s]\n"
     ]
    },
    {
     "name": "stdout",
     "output_type": "stream",
     "text": [
      "lr = 1e-05\n"
     ]
    },
    {
     "name": "stderr",
     "output_type": "stream",
     "text": [
      "100%|██████████| 100/100 [01:28<00:00,  1.13it/s]\n"
     ]
    },
    {
     "name": "stdout",
     "output_type": "stream",
     "text": [
      "lr = 0.0001\n"
     ]
    },
    {
     "name": "stderr",
     "output_type": "stream",
     "text": [
      "100%|██████████| 100/100 [01:28<00:00,  1.13it/s]\n"
     ]
    },
    {
     "name": "stdout",
     "output_type": "stream",
     "text": [
      "lr = 0.001\n"
     ]
    },
    {
     "name": "stderr",
     "output_type": "stream",
     "text": [
      "100%|██████████| 100/100 [01:31<00:00,  1.09it/s]\n"
     ]
    },
    {
     "name": "stdout",
     "output_type": "stream",
     "text": [
      "lr = 0.01\n"
     ]
    },
    {
     "name": "stderr",
     "output_type": "stream",
     "text": [
      "100%|██████████| 100/100 [01:30<00:00,  1.11it/s]\n"
     ]
    }
   ],
   "source": [
    "## Explore different hyperparameters and compare\n",
    "def heuristic_embedding_size(cardinality):\n",
    "    # https://github.com/fastai/fastai/blob/master/fastai/tabular/model.py#L12\n",
    "    return min(600, round(1.6 * cardinality**0.56))\n",
    "\n",
    "\n",
    "def explore_hyperparameters():\n",
    "    weight_decays = (1e-4, 1e-3, 1e-2, 1e-1)\n",
    "    embedding_size = (10, 100, 500, 1000, int(1e4))\n",
    "    lr_rates = (1e-5, 1e-4, 1e-3, 1e-2)\n",
    "    print(\"Testing EMBEDDING SIZE\")\n",
    "    for emb_size in embedding_size:\n",
    "        testing_param = f\"{emb_size = }\"\n",
    "        print(testing_param)\n",
    "        hparams = Hyperparameters(embedding_size=emb_size, save_loss=testing_param)\n",
    "        main(persisted_dataset_path=\"object_storage/HM_data.pckl\", hyperparams=hparams)\n",
    "    print(\"Testing WEIGHT DECAYS\")\n",
    "    for wd in weight_decays:\n",
    "        testing_param = f\"{wd = }\"\n",
    "        print(testing_param)\n",
    "        hparams = Hyperparameters(weight_decay=wd, save_loss=testing_param)\n",
    "        main(persisted_dataset_path=\"object_storage/HM_data.pckl\", hyperparams=hparams)\n",
    "    for lr in lr_rates:\n",
    "        testing_param = f\"{lr = }\"\n",
    "        print(testing_param)\n",
    "        hparams = Hyperparameters(lr_rate=lr, save_loss=testing_param)\n",
    "        main(persisted_dataset_path=\"object_storage/HM_data.pckl\", hyperparams=hparams)\n",
    "\n",
    "\n",
    "explore_hyperparameters()"
   ]
  },
  {
   "cell_type": "markdown",
   "metadata": {},
   "source": [
    "**Looking more into the objects**"
   ]
  },
  {
   "cell_type": "code",
   "execution_count": 33,
   "metadata": {},
   "outputs": [
    {
     "data": {
      "image/png": "[encoded data removed]",
      "text/plain": [
       "<Figure size 640x480 with 1 Axes>"
      ]
     },
     "metadata": {},
     "output_type": "display_data"
    },
    {
     "data": {
      "image/png": "[encoded data removed]",
      "text/plain": [
       "<Figure size 640x480 with 1 Axes>"
      ]
     },
     "metadata": {},
     "output_type": "display_data"
    },
    {
     "data": {
      "image/png": "[encoded data removed]",
      "text/plain": [
       "<Figure size 640x480 with 1 Axes>"
      ]
     },
     "metadata": {},
     "output_type": "display_data"
    }
   ],
   "source": [
    "import functools\n",
    "\n",
    "\n",
    "def compare_hyperparameter_results(data: Iterable[str]):\n",
    "    plt_calls = {}\n",
    "    for results_fn in data:\n",
    "        plt.xlabel(\"Epoch number\")\n",
    "        plt.ylabel(\"Loss value\")\n",
    "        res = pd.read_csv(results_fn, header=None)\n",
    "        setting = results_fn[results_fn.find(\"_\") + 1 :]\n",
    "        variable = setting.split(\"=\")[0]\n",
    "        if variable in plt_calls:\n",
    "            plt_calls[variable].append(\n",
    "                functools.partial(plt.plot, res[1], label=setting)\n",
    "            )\n",
    "        else:\n",
    "            plt_calls[variable] = [functools.partial(plt.plot, res[0], label=setting)]\n",
    "    for var, cmd_list in plt_calls.items():\n",
    "        for cmd in cmd_list:\n",
    "            cmd()  # plt.plot(...) for specific variable\n",
    "        plt.legend()\n",
    "        plt.yscale(\"log\")\n",
    "        plt.title(f\"Training loss loss for different choices of {var}\")\n",
    "        plt.savefig(f\"hyperparams_train_{var}.pdf\")\n",
    "        plt.show()\n",
    "\n",
    "\n",
    "files_20epochs = [\n",
    "    \"results/2022.10.24.11.33/losses_emb_size = 10.csv\",\n",
    "    \"results/2022.10.24.11.34/losses_emb_size = 100.csv\",\n",
    "    \"results/2022.10.24.11.39/losses_emb_size = 500.csv\",\n",
    "    \"results/2022.10.24.11.47/losses_emb_size = 1000.csv\",\n",
    "    \"results/2022.10.24.13.29/losses_wd = 0.0001.csv\",\n",
    "    \"results/2022.10.24.13.33/losses_wd = 0.001.csv\",\n",
    "    \"results/2022.10.24.13.37/losses_wd = 0.01.csv\",\n",
    "    \"results/2022.10.24.13.50/losses_lr = 0.001.csv\",\n",
    "    \"results/2022.10.24.13.56/losses_lr = 0.01.csv\",\n",
    "]\n",
    "files = [\n",
    "    \"results/2022.10.30.21.21/losses_emb_size = 10.csv\",\n",
    "    \"results/2022.10.30.21.23/losses_emb_size = 100.csv\",\n",
    "    \"results/2022.10.30.21.24/losses_emb_size = 500.csv\",\n",
    "    \"results/2022.10.30.21.26/losses_emb_size = 1000.csv\",\n",
    "    \"results/2022.10.30.21.32/losses_emb_size = 10000.csv\",\n",
    "    \"results/2022.10.30.21.33/losses_wd = 0.0001.csv\",\n",
    "    \"results/2022.10.30.21.34/losses_wd = 0.001.csv\",\n",
    "    \"results/2022.10.30.21.36/losses_wd = 0.01.csv\",\n",
    "    \"results/2022.10.30.21.37/losses_wd = 0.1.csv\",\n",
    "    \"results/2022.10.30.21.39/losses_lr = 1e-05.csv\",\n",
    "    \"results/2022.10.30.21.40/losses_lr = 0.0001.csv\",\n",
    "    \"results/2022.10.30.21.42/losses_lr = 0.001.csv\",\n",
    "    \"results/2022.10.30.21.43/losses_lr = 0.01.csv\",\n",
    "]\n",
    "compare_hyperparameter_results(files)"
   ]
  },
  {
   "cell_type": "markdown",
   "metadata": {},
   "source": [
    "### Adding neural layers to CF model"
   ]
  },
  {
   "cell_type": "code",
   "execution_count": null,
   "metadata": {},
   "outputs": [],
   "source": [
    "class HM_neural(torch.nn.Module):\n",
    "    def __init__(self) -> None:\n",
    "        super().__init__()\n",
    "        \n",
    "\n",
    "\n",
    "\"\"\" \n",
    "class HM_model(torch.nn.Module):\n",
    "    def __init__(self, num_customer, num_articles, embedding_size):\n",
    "        super(HM_model, self).__init__()\n",
    "        self.customer_embed = torch.nn.Embedding(\n",
    "            num_embeddings=num_customer, embedding_dim=embedding_size\n",
    "        )\n",
    "        self.art_embed = torch.nn.Embedding(\n",
    "            num_embeddings=num_articles, embedding_dim=embedding_size\n",
    "        )\n",
    "        self.customer_bias = torch.nn.Embedding(num_customer, 1)\n",
    "        self.article_bias = torch.nn.Embedding(num_articles, 1)\n",
    "\n",
    "    def forward(self, customer_row, article_row):\n",
    "        customer_embed = self.customer_embed(customer_row)\n",
    "        art_embed = self.art_embed(article_row)\n",
    "        # dot_prod_old = torch.sum(torch.mul(customer_embed, art_embed), 1)\n",
    "        dot_prod = (customer_embed * art_embed).sum(dim=1, keepdim=True)\n",
    "        # Add bias nodes to model:\n",
    "        dot_prod = (\n",
    "            dot_prod + self.customer_bias(customer_row) + self.article_bias(article_row)\n",
    "        )\n",
    "        return torch.sigmoid(dot_prod)\n",
    "\n",
    "\"\"\""
   ]
  },
  {
   "cell_type": "code",
   "execution_count": null,
   "metadata": {},
   "outputs": [
    {
     "data": {
      "text/html": [
       "<div>\n",
       "<style scoped>\n",
       "    .dataframe tbody tr th:only-of-type {\n",
       "        vertical-align: middle;\n",
       "    }\n",
       "\n",
       "    .dataframe tbody tr th {\n",
       "        vertical-align: top;\n",
       "    }\n",
       "\n",
       "    .dataframe thead th {\n",
       "        text-align: right;\n",
       "    }\n",
       "</style>\n",
       "<table border=\"1\" class=\"dataframe\">\n",
       "  <thead>\n",
       "    <tr style=\"text-align: right;\">\n",
       "      <th></th>\n",
       "      <th>customer_id</th>\n",
       "      <th>article_id</th>\n",
       "      <th>label</th>\n",
       "    </tr>\n",
       "  </thead>\n",
       "  <tbody>\n",
       "    <tr>\n",
       "      <th>0</th>\n",
       "      <td>58</td>\n",
       "      <td>1566</td>\n",
       "      <td>0</td>\n",
       "    </tr>\n",
       "    <tr>\n",
       "      <th>1</th>\n",
       "      <td>1174</td>\n",
       "      <td>563</td>\n",
       "      <td>0</td>\n",
       "    </tr>\n",
       "    <tr>\n",
       "      <th>2</th>\n",
       "      <td>1107</td>\n",
       "      <td>1256</td>\n",
       "      <td>0</td>\n",
       "    </tr>\n",
       "    <tr>\n",
       "      <th>3</th>\n",
       "      <td>1017</td>\n",
       "      <td>310</td>\n",
       "      <td>0</td>\n",
       "    </tr>\n",
       "    <tr>\n",
       "      <th>4</th>\n",
       "      <td>1948</td>\n",
       "      <td>1472</td>\n",
       "      <td>0</td>\n",
       "    </tr>\n",
       "  </tbody>\n",
       "</table>\n",
       "</div>"
      ],
      "text/plain": [
       "   customer_id  article_id  label\n",
       "0           58        1566      0\n",
       "1         1174         563      0\n",
       "2         1107        1256      0\n",
       "3         1017         310      0\n",
       "4         1948        1472      0"
      ]
     },
     "execution_count": 81,
     "metadata": {},
     "output_type": "execute_result"
    }
   ],
   "source": [
    "dataset = read_dataset_obj(\"object_storage/HM_data.pckl\")\n",
    "dataset.df_id.head()"
   ]
  },
  {
   "cell_type": "code",
   "execution_count": null,
   "metadata": {},
   "outputs": [],
   "source": [
    "dataset.df_id.describe().loc[[\"count\", \"min\", \"max\"]]"
   ]
  },
  {
   "cell_type": "code",
   "execution_count": null,
   "metadata": {},
   "outputs": [
    {
     "data": {
      "text/html": [
       "<div>\n",
       "<style scoped>\n",
       "    .dataframe tbody tr th:only-of-type {\n",
       "        vertical-align: middle;\n",
       "    }\n",
       "\n",
       "    .dataframe tbody tr th {\n",
       "        vertical-align: top;\n",
       "    }\n",
       "\n",
       "    .dataframe thead th {\n",
       "        text-align: right;\n",
       "    }\n",
       "</style>\n",
       "<table border=\"1\" class=\"dataframe\">\n",
       "  <thead>\n",
       "    <tr style=\"text-align: right;\">\n",
       "      <th></th>\n",
       "      <th>customer_id</th>\n",
       "      <th>article_id</th>\n",
       "      <th>label</th>\n",
       "    </tr>\n",
       "  </thead>\n",
       "  <tbody>\n",
       "    <tr>\n",
       "      <th>468</th>\n",
       "      <td>231</td>\n",
       "      <td>821</td>\n",
       "      <td>0</td>\n",
       "    </tr>\n",
       "    <tr>\n",
       "      <th>746</th>\n",
       "      <td>1062</td>\n",
       "      <td>953</td>\n",
       "      <td>0</td>\n",
       "    </tr>\n",
       "    <tr>\n",
       "      <th>977</th>\n",
       "      <td>1251</td>\n",
       "      <td>991</td>\n",
       "      <td>0</td>\n",
       "    </tr>\n",
       "    <tr>\n",
       "      <th>449</th>\n",
       "      <td>970</td>\n",
       "      <td>152</td>\n",
       "      <td>0</td>\n",
       "    </tr>\n",
       "    <tr>\n",
       "      <th>1626</th>\n",
       "      <td>1242</td>\n",
       "      <td>1122</td>\n",
       "      <td>0</td>\n",
       "    </tr>\n",
       "    <tr>\n",
       "      <th>...</th>\n",
       "      <td>...</td>\n",
       "      <td>...</td>\n",
       "      <td>...</td>\n",
       "    </tr>\n",
       "    <tr>\n",
       "      <th>1347</th>\n",
       "      <td>1772</td>\n",
       "      <td>1584</td>\n",
       "      <td>0</td>\n",
       "    </tr>\n",
       "    <tr>\n",
       "      <th>1845</th>\n",
       "      <td>1625</td>\n",
       "      <td>1583</td>\n",
       "      <td>0</td>\n",
       "    </tr>\n",
       "    <tr>\n",
       "      <th>584</th>\n",
       "      <td>187</td>\n",
       "      <td>493</td>\n",
       "      <td>0</td>\n",
       "    </tr>\n",
       "    <tr>\n",
       "      <th>1190</th>\n",
       "      <td>583</td>\n",
       "      <td>1850</td>\n",
       "      <td>0</td>\n",
       "    </tr>\n",
       "    <tr>\n",
       "      <th>93</th>\n",
       "      <td>1220</td>\n",
       "      <td>1699</td>\n",
       "      <td>0</td>\n",
       "    </tr>\n",
       "  </tbody>\n",
       "</table>\n",
       "<p>1400 rows × 3 columns</p>\n",
       "</div>"
      ],
      "text/plain": [
       "      customer_id  article_id  label\n",
       "468           231         821      0\n",
       "746          1062         953      0\n",
       "977          1251         991      0\n",
       "449           970         152      0\n",
       "1626         1242        1122      0\n",
       "...           ...         ...    ...\n",
       "1347         1772        1584      0\n",
       "1845         1625        1583      0\n",
       "584           187         493      0\n",
       "1190          583        1850      0\n",
       "93           1220        1699      0\n",
       "\n",
       "[1400 rows x 3 columns]"
      ]
     },
     "execution_count": 83,
     "metadata": {},
     "output_type": "execute_result"
    }
   ],
   "source": [
    "dataset.train.dataset.df_id.iloc[dataset.train.indices]"
   ]
  }
 ],
 "metadata": {
  "kernelspec": {
   "display_name": "Python 3.10.6 ('Proj': venv)",
   "language": "python",
   "name": "python3"
  },
  "language_info": {
   "codemirror_mode": {
    "name": "ipython",
    "version": 3
   },
   "file_extension": ".py",
   "mimetype": "text/x-python",
   "name": "python",
   "nbconvert_exporter": "python",
   "pygments_lexer": "ipython3",
   "version": "3.10.6"
  },
  "orig_nbformat": 4,
  "vscode": {
   "interpreter": {
    "hash": "402b62e985bc5250c3cc67917d34a79ef392b62d1143c3e95347f6ab24b3a3fe"
   }
  }
 },
 "nbformat": 4,
 "nbformat_minor": 2
}
