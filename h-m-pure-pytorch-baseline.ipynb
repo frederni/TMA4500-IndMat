{
 "cells": [
  {
   "cell_type": "code",
   "execution_count": 3,
   "id": "b38acba7",
   "metadata": {
    "_cell_guid": "b1076dfc-b9ad-4769-8c92-a6c4dae69d19",
    "_uuid": "8f2839f25d086af736a60e9eeb907d3b93b6e0e5",
    "execution": {
     "iopub.execute_input": "2022-03-23T06:47:55.444572Z",
     "iopub.status.busy": "2022-03-23T06:47:55.438214Z",
     "iopub.status.idle": "2022-03-23T06:48:58.546913Z",
     "shell.execute_reply": "2022-03-23T06:48:58.546303Z",
     "shell.execute_reply.started": "2022-03-18T13:11:20.185301Z"
    },
    "papermill": {
     "duration": 63.131503,
     "end_time": "2022-03-23T06:48:58.547063",
     "exception": false,
     "start_time": "2022-03-23T06:47:55.415560",
     "status": "completed"
    },
    "tags": []
   },
   "outputs": [
    {
     "name": "stdout",
     "output_type": "stream",
     "text": [
      "(31788324, 5)\n"
     ]
    },
    {
     "data": {
      "text/html": [
       "<div>\n",
       "<style scoped>\n",
       "    .dataframe tbody tr th:only-of-type {\n",
       "        vertical-align: middle;\n",
       "    }\n",
       "\n",
       "    .dataframe tbody tr th {\n",
       "        vertical-align: top;\n",
       "    }\n",
       "\n",
       "    .dataframe thead th {\n",
       "        text-align: right;\n",
       "    }\n",
       "</style>\n",
       "<table border=\"1\" class=\"dataframe\">\n",
       "  <thead>\n",
       "    <tr style=\"text-align: right;\">\n",
       "      <th></th>\n",
       "      <th>t_dat</th>\n",
       "      <th>customer_id</th>\n",
       "      <th>article_id</th>\n",
       "      <th>price</th>\n",
       "      <th>sales_channel_id</th>\n",
       "    </tr>\n",
       "  </thead>\n",
       "  <tbody>\n",
       "    <tr>\n",
       "      <th>0</th>\n",
       "      <td>2018-09-20</td>\n",
       "      <td>000058a12d5b43e67d225668fa1f8d618c13dc232df0ca...</td>\n",
       "      <td>0663713001</td>\n",
       "      <td>0.050831</td>\n",
       "      <td>2</td>\n",
       "    </tr>\n",
       "    <tr>\n",
       "      <th>1</th>\n",
       "      <td>2018-09-20</td>\n",
       "      <td>000058a12d5b43e67d225668fa1f8d618c13dc232df0ca...</td>\n",
       "      <td>0541518023</td>\n",
       "      <td>0.030492</td>\n",
       "      <td>2</td>\n",
       "    </tr>\n",
       "    <tr>\n",
       "      <th>2</th>\n",
       "      <td>2018-09-20</td>\n",
       "      <td>00007d2de826758b65a93dd24ce629ed66842531df6699...</td>\n",
       "      <td>0505221004</td>\n",
       "      <td>0.015237</td>\n",
       "      <td>2</td>\n",
       "    </tr>\n",
       "    <tr>\n",
       "      <th>3</th>\n",
       "      <td>2018-09-20</td>\n",
       "      <td>00007d2de826758b65a93dd24ce629ed66842531df6699...</td>\n",
       "      <td>0685687003</td>\n",
       "      <td>0.016932</td>\n",
       "      <td>2</td>\n",
       "    </tr>\n",
       "    <tr>\n",
       "      <th>4</th>\n",
       "      <td>2018-09-20</td>\n",
       "      <td>00007d2de826758b65a93dd24ce629ed66842531df6699...</td>\n",
       "      <td>0685687004</td>\n",
       "      <td>0.016932</td>\n",
       "      <td>2</td>\n",
       "    </tr>\n",
       "  </tbody>\n",
       "</table>\n",
       "</div>"
      ],
      "text/plain": [
       "        t_dat                                        customer_id  article_id  \\\n",
       "0  2018-09-20  000058a12d5b43e67d225668fa1f8d618c13dc232df0ca...  0663713001   \n",
       "1  2018-09-20  000058a12d5b43e67d225668fa1f8d618c13dc232df0ca...  0541518023   \n",
       "2  2018-09-20  00007d2de826758b65a93dd24ce629ed66842531df6699...  0505221004   \n",
       "3  2018-09-20  00007d2de826758b65a93dd24ce629ed66842531df6699...  0685687003   \n",
       "4  2018-09-20  00007d2de826758b65a93dd24ce629ed66842531df6699...  0685687004   \n",
       "\n",
       "      price  sales_channel_id  \n",
       "0  0.050831                 2  \n",
       "1  0.030492                 2  \n",
       "2  0.015237                 2  \n",
       "3  0.016932                 2  \n",
       "4  0.016932                 2  "
      ]
     },
     "execution_count": 3,
     "metadata": {},
     "output_type": "execute_result"
    }
   ],
   "source": [
    "import numpy as np\n",
    "import pandas as pd\n",
    "\n",
    "\n",
    "df = pd.read_csv(\"dataset/transactions_train.csv\", dtype={\"article_id\": str}) # NB we don't have 0 before article ID!\n",
    "print(df.shape)\n",
    "df.head()"
   ]
  },
  {
   "cell_type": "code",
   "execution_count": 4,
   "id": "be085e03",
   "metadata": {
    "execution": {
     "iopub.execute_input": "2022-03-23T06:48:58.983943Z",
     "iopub.status.busy": "2022-03-23T06:48:58.590379Z",
     "iopub.status.idle": "2022-03-23T06:49:05.142428Z",
     "shell.execute_reply": "2022-03-23T06:49:05.141909Z",
     "shell.execute_reply.started": "2022-03-18T13:12:20.510413Z"
    },
    "papermill": {
     "duration": 6.577286,
     "end_time": "2022-03-23T06:49:05.142556",
     "exception": false,
     "start_time": "2022-03-23T06:48:58.565270",
     "status": "completed"
    },
    "tags": []
   },
   "outputs": [
    {
     "data": {
      "text/plain": [
       "Timestamp('2020-09-22 00:00:00')"
      ]
     },
     "execution_count": 4,
     "metadata": {},
     "output_type": "execute_result"
    }
   ],
   "source": [
    "df[\"t_dat\"] = pd.to_datetime(df[\"t_dat\"])\n",
    "df[\"t_dat\"].max()"
   ]
  },
  {
   "cell_type": "code",
   "execution_count": 5,
   "id": "be196c63",
   "metadata": {
    "execution": {
     "iopub.execute_input": "2022-03-23T06:49:07.059127Z",
     "iopub.status.busy": "2022-03-23T06:49:05.780265Z",
     "iopub.status.idle": "2022-03-23T06:49:09.909667Z",
     "shell.execute_reply": "2022-03-23T06:49:09.909217Z",
     "shell.execute_reply.started": "2022-03-18T13:12:26.121991Z"
    },
    "papermill": {
     "duration": 4.745645,
     "end_time": "2022-03-23T06:49:09.909798",
     "exception": false,
     "start_time": "2022-03-23T06:49:05.164153",
     "status": "completed"
    },
    "tags": []
   },
   "outputs": [
    {
     "data": {
      "text/html": [
       "<div>\n",
       "<style scoped>\n",
       "    .dataframe tbody tr th:only-of-type {\n",
       "        vertical-align: middle;\n",
       "    }\n",
       "\n",
       "    .dataframe tbody tr th {\n",
       "        vertical-align: top;\n",
       "    }\n",
       "\n",
       "    .dataframe thead th {\n",
       "        text-align: right;\n",
       "    }\n",
       "</style>\n",
       "<table border=\"1\" class=\"dataframe\">\n",
       "  <thead>\n",
       "    <tr style=\"text-align: right;\">\n",
       "      <th></th>\n",
       "      <th>index</th>\n",
       "      <th>article_id</th>\n",
       "      <th>t_dat</th>\n",
       "    </tr>\n",
       "  </thead>\n",
       "  <tbody>\n",
       "    <tr>\n",
       "      <th>0</th>\n",
       "      <td>0</td>\n",
       "      <td>0108775015</td>\n",
       "      <td>2020-07-22</td>\n",
       "    </tr>\n",
       "    <tr>\n",
       "      <th>1</th>\n",
       "      <td>1</td>\n",
       "      <td>0108775044</td>\n",
       "      <td>2020-09-20</td>\n",
       "    </tr>\n",
       "    <tr>\n",
       "      <th>2</th>\n",
       "      <td>3</td>\n",
       "      <td>0110065001</td>\n",
       "      <td>2020-08-02</td>\n",
       "    </tr>\n",
       "    <tr>\n",
       "      <th>3</th>\n",
       "      <td>4</td>\n",
       "      <td>0110065002</td>\n",
       "      <td>2020-08-05</td>\n",
       "    </tr>\n",
       "    <tr>\n",
       "      <th>4</th>\n",
       "      <td>5</td>\n",
       "      <td>0110065011</td>\n",
       "      <td>2020-09-01</td>\n",
       "    </tr>\n",
       "    <tr>\n",
       "      <th>...</th>\n",
       "      <td>...</td>\n",
       "      <td>...</td>\n",
       "      <td>...</td>\n",
       "    </tr>\n",
       "    <tr>\n",
       "      <th>72576</th>\n",
       "      <td>104542</td>\n",
       "      <td>0952267001</td>\n",
       "      <td>2020-09-22</td>\n",
       "    </tr>\n",
       "    <tr>\n",
       "      <th>72577</th>\n",
       "      <td>104543</td>\n",
       "      <td>0952938001</td>\n",
       "      <td>2020-09-22</td>\n",
       "    </tr>\n",
       "    <tr>\n",
       "      <th>72578</th>\n",
       "      <td>104544</td>\n",
       "      <td>0953450001</td>\n",
       "      <td>2020-09-22</td>\n",
       "    </tr>\n",
       "    <tr>\n",
       "      <th>72579</th>\n",
       "      <td>104545</td>\n",
       "      <td>0953763001</td>\n",
       "      <td>2020-09-22</td>\n",
       "    </tr>\n",
       "    <tr>\n",
       "      <th>72580</th>\n",
       "      <td>104546</td>\n",
       "      <td>0956217002</td>\n",
       "      <td>2020-09-21</td>\n",
       "    </tr>\n",
       "  </tbody>\n",
       "</table>\n",
       "<p>72581 rows × 3 columns</p>\n",
       "</div>"
      ],
      "text/plain": [
       "        index  article_id      t_dat\n",
       "0           0  0108775015 2020-07-22\n",
       "1           1  0108775044 2020-09-20\n",
       "2           3  0110065001 2020-08-02\n",
       "3           4  0110065002 2020-08-05\n",
       "4           5  0110065011 2020-09-01\n",
       "...       ...         ...        ...\n",
       "72576  104542  0952267001 2020-09-22\n",
       "72577  104543  0952938001 2020-09-22\n",
       "72578  104544  0953450001 2020-09-22\n",
       "72579  104545  0953763001 2020-09-22\n",
       "72580  104546  0956217002 2020-09-21\n",
       "\n",
       "[72581 rows x 3 columns]"
      ]
     },
     "execution_count": 5,
     "metadata": {},
     "output_type": "execute_result"
    }
   ],
   "source": [
    "active_articles = df.groupby(\"article_id\")[\"t_dat\"].max().reset_index()\n",
    "\n",
    "active_articles = active_articles[active_articles[\"t_dat\"] >= \"2019-09-01\"].reset_index()\n",
    "active_articles"
   ]
  },
  {
   "cell_type": "code",
   "execution_count": 6,
   "id": "98c944c5",
   "metadata": {
    "execution": {
     "iopub.execute_input": "2022-03-23T06:49:13.659831Z",
     "iopub.status.busy": "2022-03-23T06:49:13.658928Z",
     "iopub.status.idle": "2022-03-23T06:49:16.909104Z",
     "shell.execute_reply": "2022-03-23T06:49:16.909486Z",
     "shell.execute_reply.started": "2022-03-18T13:12:31.017155Z"
    },
    "papermill": {
     "duration": 6.980805,
     "end_time": "2022-03-23T06:49:16.909671",
     "exception": false,
     "start_time": "2022-03-23T06:49:09.928866",
     "status": "completed"
    },
    "tags": []
   },
   "outputs": [
    {
     "data": {
      "text/plain": [
       "(29634404, 5)"
      ]
     },
     "execution_count": 6,
     "metadata": {},
     "output_type": "execute_result"
    }
   ],
   "source": [
    "df = df[df[\"article_id\"].isin(active_articles[\"article_id\"])].reset_index(drop=True)\n",
    "df.shape"
   ]
  },
  {
   "cell_type": "code",
   "execution_count": 7,
   "id": "5e0fb50d",
   "metadata": {
    "execution": {
     "iopub.execute_input": "2022-03-23T06:49:16.954634Z",
     "iopub.status.busy": "2022-03-23T06:49:16.953699Z",
     "iopub.status.idle": "2022-03-23T06:49:18.281016Z",
     "shell.execute_reply": "2022-03-23T06:49:18.281392Z",
     "shell.execute_reply.started": "2022-03-18T13:12:37.750143Z"
    },
    "papermill": {
     "duration": 1.352253,
     "end_time": "2022-03-23T06:49:18.281542",
     "exception": false,
     "start_time": "2022-03-23T06:49:16.929289",
     "status": "completed"
    },
    "tags": []
   },
   "outputs": [
    {
     "data": {
      "text/plain": [
       "65     620104\n",
       "13     549443\n",
       "42     518403\n",
       "12     517428\n",
       "64     508664\n",
       "        ...  \n",
       "93     174190\n",
       "102    164298\n",
       "104    163143\n",
       "97     162580\n",
       "94     152807\n",
       "Name: week, Length: 105, dtype: int64"
      ]
     },
     "execution_count": 7,
     "metadata": {},
     "output_type": "execute_result"
    }
   ],
   "source": [
    "df[\"week\"] = (df[\"t_dat\"].max() - df[\"t_dat\"]).dt.days // 7\n",
    "df[\"week\"].value_counts()"
   ]
  },
  {
   "cell_type": "code",
   "execution_count": 8,
   "id": "d5dbbf7f",
   "metadata": {
    "execution": {
     "iopub.execute_input": "2022-03-23T06:49:18.323527Z",
     "iopub.status.busy": "2022-03-23T06:49:18.322783Z",
     "iopub.status.idle": "2022-03-23T06:50:31.641421Z",
     "shell.execute_reply": "2022-03-23T06:50:31.640937Z",
     "shell.execute_reply.started": "2022-03-18T13:12:39.082967Z"
    },
    "papermill": {
     "duration": 73.340391,
     "end_time": "2022-03-23T06:50:31.641572",
     "exception": false,
     "start_time": "2022-03-23T06:49:18.301181",
     "status": "completed"
    },
    "tags": []
   },
   "outputs": [],
   "source": [
    "from sklearn.preprocessing import LabelEncoder\n",
    "\n",
    "\n",
    "article_ids = np.concatenate([[\"placeholder\"], np.unique(df[\"article_id\"].values)])\n",
    "\n",
    "le_article = LabelEncoder()\n",
    "le_article.fit(article_ids)\n",
    "df[\"article_id\"] = le_article.transform(df[\"article_id\"])"
   ]
  },
  {
   "cell_type": "code",
   "execution_count": null,
   "id": "1216c435",
   "metadata": {
    "execution": {
     "iopub.execute_input": "2022-03-23T06:50:31.699414Z",
     "iopub.status.busy": "2022-03-23T06:50:31.698547Z",
     "iopub.status.idle": "2022-03-23T06:51:08.064674Z",
     "shell.execute_reply": "2022-03-23T06:51:08.065124Z",
     "shell.execute_reply.started": "2022-03-18T13:13:51.565837Z"
    },
    "papermill": {
     "duration": 36.402696,
     "end_time": "2022-03-23T06:51:08.065268",
     "exception": false,
     "start_time": "2022-03-23T06:50:31.662572",
     "status": "completed"
    },
    "tags": []
   },
   "outputs": [],
   "source": [
    "WEEK_HIST_MAX = 5\n",
    "\n",
    "def create_dataset(df, week):\n",
    "    hist_df = df[(df[\"week\"] > week) & (df[\"week\"] <= week + WEEK_HIST_MAX)]\n",
    "    hist_df = hist_df.groupby(\"customer_id\").agg({\"article_id\": list, \"week\": list}).reset_index()\n",
    "    hist_df.rename(columns={\"week\": 'week_history'}, inplace=True)\n",
    "    \n",
    "    target_df = df[df[\"week\"] == week]\n",
    "    target_df = target_df.groupby(\"customer_id\").agg({\"article_id\": list}).reset_index()\n",
    "    target_df.rename(columns={\"article_id\": \"target\"}, inplace=True)\n",
    "    target_df[\"week\"] = week\n",
    "    \n",
    "    return target_df.merge(hist_df, on=\"customer_id\", how=\"left\")\n",
    "\n",
    "val_weeks = [0]\n",
    "train_weeks = [1, 2, 3, 4]\n",
    "\n",
    "\n",
    "val_df = pd.concat([create_dataset(df, w) for w in val_weeks]).reset_index(drop=True)\n",
    "train_df = pd.concat([create_dataset(df, w) for w in train_weeks]).reset_index(drop=True)\n",
    "train_df.shape, val_df.shape"
   ]
  },
  {
   "cell_type": "code",
   "execution_count": null,
   "id": "be840b60",
   "metadata": {},
   "outputs": [
    {
     "data": {
      "text/html": [
       "<div>\n",
       "<style scoped>\n",
       "    .dataframe tbody tr th:only-of-type {\n",
       "        vertical-align: middle;\n",
       "    }\n",
       "\n",
       "    .dataframe tbody tr th {\n",
       "        vertical-align: top;\n",
       "    }\n",
       "\n",
       "    .dataframe thead th {\n",
       "        text-align: right;\n",
       "    }\n",
       "</style>\n",
       "<table border=\"1\" class=\"dataframe\">\n",
       "  <thead>\n",
       "    <tr style=\"text-align: right;\">\n",
       "      <th></th>\n",
       "      <th>customer_id</th>\n",
       "      <th>target</th>\n",
       "      <th>week</th>\n",
       "      <th>article_id</th>\n",
       "      <th>week_history</th>\n",
       "    </tr>\n",
       "  </thead>\n",
       "  <tbody>\n",
       "    <tr>\n",
       "      <th>0</th>\n",
       "      <td>000058a12d5b43e67d225668fa1f8d618c13dc232df0ca...</td>\n",
       "      <td>[46435]</td>\n",
       "      <td>1</td>\n",
       "      <td>NaN</td>\n",
       "      <td>NaN</td>\n",
       "    </tr>\n",
       "    <tr>\n",
       "      <th>1</th>\n",
       "      <td>0000757967448a6cb83efb3ea7a3fb9d418ac7adf2379d...</td>\n",
       "      <td>[28802, 1802]</td>\n",
       "      <td>1</td>\n",
       "      <td>NaN</td>\n",
       "      <td>NaN</td>\n",
       "    </tr>\n",
       "    <tr>\n",
       "      <th>2</th>\n",
       "      <td>0001d44dbe7f6c4b35200abdb052c77a87596fe1bdcc37...</td>\n",
       "      <td>[31464]</td>\n",
       "      <td>1</td>\n",
       "      <td>[51393, 27223, 65187, 68949, 71019, 71019, 710...</td>\n",
       "      <td>[6, 6, 6, 6, 6, 6, 6, 6, 6, 6, 6, 6, 6, 6, 6, ...</td>\n",
       "    </tr>\n",
       "    <tr>\n",
       "      <th>3</th>\n",
       "      <td>0003e867a930d0d6842f923d6ba7c9b77aba33fe2a0fbf...</td>\n",
       "      <td>[14648, 11949, 66254, 66254, 67809]</td>\n",
       "      <td>1</td>\n",
       "      <td>[71985, 71483, 68191, 70912, 69932, 70149]</td>\n",
       "      <td>[6, 6, 6, 2, 2, 2]</td>\n",
       "    </tr>\n",
       "    <tr>\n",
       "      <th>4</th>\n",
       "      <td>00040239317e877c77ac6e79df42eb2633ad38fcac09fc...</td>\n",
       "      <td>[65340, 65341, 65340, 65341]</td>\n",
       "      <td>1</td>\n",
       "      <td>NaN</td>\n",
       "      <td>NaN</td>\n",
       "    </tr>\n",
       "    <tr>\n",
       "      <th>...</th>\n",
       "      <td>...</td>\n",
       "      <td>...</td>\n",
       "      <td>...</td>\n",
       "      <td>...</td>\n",
       "      <td>...</td>\n",
       "    </tr>\n",
       "    <tr>\n",
       "      <th>300124</th>\n",
       "      <td>fffd870c6324ad3bda24e4d6aeae221c199479086bfdfd...</td>\n",
       "      <td>[29854]</td>\n",
       "      <td>4</td>\n",
       "      <td>NaN</td>\n",
       "      <td>NaN</td>\n",
       "    </tr>\n",
       "    <tr>\n",
       "      <th>300125</th>\n",
       "      <td>fffe7116f9f68e8ad287fd7b6e33aad4871d7080e77d2d...</td>\n",
       "      <td>[68904, 68898]</td>\n",
       "      <td>4</td>\n",
       "      <td>NaN</td>\n",
       "      <td>NaN</td>\n",
       "    </tr>\n",
       "    <tr>\n",
       "      <th>300126</th>\n",
       "      <td>fffef3b6b73545df065b521e19f64bf6fe93bfd450ab20...</td>\n",
       "      <td>[26000, 72310]</td>\n",
       "      <td>4</td>\n",
       "      <td>[55567, 37950, 19560, 49125, 28951, 19577, 697...</td>\n",
       "      <td>[8, 8, 8, 8, 8, 8, 8, 8, 6, 6, 6, 6, 6, 6, 5]</td>\n",
       "    </tr>\n",
       "    <tr>\n",
       "      <th>300127</th>\n",
       "      <td>ffff12aa623c69eae8959d673f1f12ad0194ad760d77fd...</td>\n",
       "      <td>[64529, 64016]</td>\n",
       "      <td>4</td>\n",
       "      <td>[1341, 59228, 62165]</td>\n",
       "      <td>[9, 9, 6]</td>\n",
       "    </tr>\n",
       "    <tr>\n",
       "      <th>300128</th>\n",
       "      <td>ffff61677073258d461e043cc9ed4ed97be5617a920640...</td>\n",
       "      <td>[50844, 58948]</td>\n",
       "      <td>4</td>\n",
       "      <td>[36038]</td>\n",
       "      <td>[9]</td>\n",
       "    </tr>\n",
       "  </tbody>\n",
       "</table>\n",
       "<p>300129 rows × 5 columns</p>\n",
       "</div>"
      ],
      "text/plain": [
       "                                              customer_id  \\\n",
       "0       000058a12d5b43e67d225668fa1f8d618c13dc232df0ca...   \n",
       "1       0000757967448a6cb83efb3ea7a3fb9d418ac7adf2379d...   \n",
       "2       0001d44dbe7f6c4b35200abdb052c77a87596fe1bdcc37...   \n",
       "3       0003e867a930d0d6842f923d6ba7c9b77aba33fe2a0fbf...   \n",
       "4       00040239317e877c77ac6e79df42eb2633ad38fcac09fc...   \n",
       "...                                                   ...   \n",
       "300124  fffd870c6324ad3bda24e4d6aeae221c199479086bfdfd...   \n",
       "300125  fffe7116f9f68e8ad287fd7b6e33aad4871d7080e77d2d...   \n",
       "300126  fffef3b6b73545df065b521e19f64bf6fe93bfd450ab20...   \n",
       "300127  ffff12aa623c69eae8959d673f1f12ad0194ad760d77fd...   \n",
       "300128  ffff61677073258d461e043cc9ed4ed97be5617a920640...   \n",
       "\n",
       "                                     target  week  \\\n",
       "0                                   [46435]     1   \n",
       "1                             [28802, 1802]     1   \n",
       "2                                   [31464]     1   \n",
       "3       [14648, 11949, 66254, 66254, 67809]     1   \n",
       "4              [65340, 65341, 65340, 65341]     1   \n",
       "...                                     ...   ...   \n",
       "300124                              [29854]     4   \n",
       "300125                       [68904, 68898]     4   \n",
       "300126                       [26000, 72310]     4   \n",
       "300127                       [64529, 64016]     4   \n",
       "300128                       [50844, 58948]     4   \n",
       "\n",
       "                                               article_id  \\\n",
       "0                                                     NaN   \n",
       "1                                                     NaN   \n",
       "2       [51393, 27223, 65187, 68949, 71019, 71019, 710...   \n",
       "3              [71985, 71483, 68191, 70912, 69932, 70149]   \n",
       "4                                                     NaN   \n",
       "...                                                   ...   \n",
       "300124                                                NaN   \n",
       "300125                                                NaN   \n",
       "300126  [55567, 37950, 19560, 49125, 28951, 19577, 697...   \n",
       "300127                               [1341, 59228, 62165]   \n",
       "300128                                            [36038]   \n",
       "\n",
       "                                             week_history  \n",
       "0                                                     NaN  \n",
       "1                                                     NaN  \n",
       "2       [6, 6, 6, 6, 6, 6, 6, 6, 6, 6, 6, 6, 6, 6, 6, ...  \n",
       "3                                      [6, 6, 6, 2, 2, 2]  \n",
       "4                                                     NaN  \n",
       "...                                                   ...  \n",
       "300124                                                NaN  \n",
       "300125                                                NaN  \n",
       "300126      [8, 8, 8, 8, 8, 8, 8, 8, 6, 6, 6, 6, 6, 6, 5]  \n",
       "300127                                          [9, 9, 6]  \n",
       "300128                                                [9]  \n",
       "\n",
       "[300129 rows x 5 columns]"
      ]
     },
     "execution_count": 9,
     "metadata": {},
     "output_type": "execute_result"
    }
   ],
   "source": [
    "train_df"
   ]
  },
  {
   "cell_type": "code",
   "execution_count": null,
   "id": "33175e2e",
   "metadata": {
    "execution": {
     "iopub.execute_input": "2022-03-23T06:51:08.115558Z",
     "iopub.status.busy": "2022-03-23T06:51:08.115039Z",
     "iopub.status.idle": "2022-03-23T06:51:09.655631Z",
     "shell.execute_reply": "2022-03-23T06:51:09.656071Z",
     "shell.execute_reply.started": "2022-03-18T13:14:27.726289Z"
    },
    "papermill": {
     "duration": 1.571066,
     "end_time": "2022-03-23T06:51:09.656229",
     "exception": false,
     "start_time": "2022-03-23T06:51:08.085163",
     "status": "completed"
    },
    "tags": []
   },
   "outputs": [
    {
     "data": {
      "text/plain": [
       "(tensor([    0,     0,     0,     0,     0,     0,     0,     0,     0,     0,\n",
       "             0,     0,     0,     0,     0,     0,     0,     0,     0,     0,\n",
       "             0,     0,     0,     0,     0,     0,     0,     0,     0,     0,\n",
       "             0,     0,     0,     0,     0,     0,     0,     0,     0,     0,\n",
       "             0,     0,     0,     0,     0,     0,     0,     0,     0,     0,\n",
       "             0,     0,     0,     0,     0,     0, 70912, 69932, 70149, 14648,\n",
       "         11949, 66254, 66254, 67809]),\n",
       " tensor([1.0000, 1.0000, 1.0000, 1.0000, 1.0000, 1.0000, 1.0000, 1.0000, 1.0000,\n",
       "         1.0000, 1.0000, 1.0000, 1.0000, 1.0000, 1.0000, 1.0000, 1.0000, 1.0000,\n",
       "         1.0000, 1.0000, 1.0000, 1.0000, 1.0000, 1.0000, 1.0000, 1.0000, 1.0000,\n",
       "         1.0000, 1.0000, 1.0000, 1.0000, 1.0000, 1.0000, 1.0000, 1.0000, 1.0000,\n",
       "         1.0000, 1.0000, 1.0000, 1.0000, 1.0000, 1.0000, 1.0000, 1.0000, 1.0000,\n",
       "         1.0000, 1.0000, 1.0000, 1.0000, 1.0000, 1.0000, 1.0000, 1.0000, 1.0000,\n",
       "         1.0000, 1.0000, 0.2000, 0.2000, 0.2000, 0.1000, 0.1000, 0.1000, 0.1000,\n",
       "         0.1000]),\n",
       " tensor([0., 0., 0.,  ..., 0., 0., 0.]))"
      ]
     },
     "execution_count": 10,
     "metadata": {},
     "output_type": "execute_result"
    }
   ],
   "source": [
    "from torch.utils.data import Dataset, DataLoader\n",
    "import torch\n",
    "from tqdm import tqdm\n",
    "\n",
    "class HMDataset(Dataset):\n",
    "    def __init__(self, df, seq_len, is_test=False):\n",
    "        self.df = df.reset_index(drop=True)\n",
    "        self.seq_len = seq_len\n",
    "        self.is_test = is_test\n",
    "    \n",
    "    def __len__(self):\n",
    "        return self.df.shape[0]\n",
    "    \n",
    "    def __getitem__(self, index):\n",
    "        row = self.df.iloc[index]\n",
    "        \n",
    "        if self.is_test:\n",
    "            target = torch.zeros(2).float()\n",
    "        else:\n",
    "            target = torch.zeros(len(article_ids)).float()\n",
    "            for t in row.target:\n",
    "                target[t] = 1.0\n",
    "            \n",
    "        article_hist = torch.zeros(self.seq_len).long()\n",
    "        week_hist = torch.ones(self.seq_len).float()\n",
    "        \n",
    "        \n",
    "        if isinstance(row.article_id, list):\n",
    "            if len(row.article_id) >= self.seq_len:\n",
    "                article_hist = torch.LongTensor(row.article_id[-self.seq_len:])\n",
    "                week_hist = (torch.LongTensor(row.week_history[-self.seq_len:]) - row.week)/WEEK_HIST_MAX/2\n",
    "            else:\n",
    "                article_hist[-len(row.article_id):] = torch.LongTensor(row.article_id)\n",
    "                week_hist[-len(row.article_id):] = (torch.LongTensor(row.week_history) - row.week)/WEEK_HIST_MAX/2\n",
    "                \n",
    "        return article_hist, week_hist, target\n",
    "    \n",
    "HMDataset(val_df, 64)[1]"
   ]
  },
  {
   "cell_type": "code",
   "execution_count": null,
   "id": "7c5b202e",
   "metadata": {
    "execution": {
     "iopub.execute_input": "2022-03-23T06:51:09.704813Z",
     "iopub.status.busy": "2022-03-23T06:51:09.704206Z",
     "iopub.status.idle": "2022-03-23T06:51:09.707538Z",
     "shell.execute_reply": "2022-03-23T06:51:09.707123Z",
     "shell.execute_reply.started": "2022-03-18T13:14:29.13898Z"
    },
    "papermill": {
     "duration": 0.030758,
     "end_time": "2022-03-23T06:51:09.707688",
     "exception": false,
     "start_time": "2022-03-23T06:51:09.676930",
     "status": "completed"
    },
    "tags": []
   },
   "outputs": [],
   "source": [
    "def adjust_lr(optimizer, epoch):\n",
    "    if epoch < 1:\n",
    "        lr = 5e-5\n",
    "    elif epoch < 6:\n",
    "        lr = 1e-3\n",
    "    elif epoch < 9:\n",
    "        lr = 1e-4\n",
    "    else:\n",
    "        lr = 1e-5\n",
    "\n",
    "    for p in optimizer.param_groups:\n",
    "        p['lr'] = lr\n",
    "    return lr\n",
    "    \n",
    "def get_optimizer(net):\n",
    "    optimizer = torch.optim.Adam(filter(lambda p: p.requires_grad, net.parameters()), lr=3e-4, betas=(0.9, 0.999),\n",
    "                                 eps=1e-08)\n",
    "    return optimizer"
   ]
  },
  {
   "cell_type": "code",
   "execution_count": null,
   "id": "a8fe36cc",
   "metadata": {
    "execution": {
     "iopub.execute_input": "2022-03-23T06:51:09.762679Z",
     "iopub.status.busy": "2022-03-23T06:51:09.762039Z",
     "iopub.status.idle": "2022-03-23T06:51:12.978709Z",
     "shell.execute_reply": "2022-03-23T06:51:12.978215Z",
     "shell.execute_reply.started": "2022-03-18T13:14:29.14807Z"
    },
    "papermill": {
     "duration": 3.250564,
     "end_time": "2022-03-23T06:51:12.978853",
     "exception": false,
     "start_time": "2022-03-23T06:51:09.728289",
     "status": "completed"
    },
    "tags": []
   },
   "outputs": [],
   "source": [
    "import torch.nn as nn\n",
    "import torch.nn.functional as F\n",
    "\n",
    "class HMModel(nn.Module):\n",
    "    def __init__(self, article_shape):\n",
    "        super(HMModel, self).__init__()\n",
    "        \n",
    "        self.article_emb = nn.Embedding(article_shape[0], embedding_dim=article_shape[1])\n",
    "        \n",
    "        self.article_likelihood = nn.Parameter(torch.zeros(article_shape[0]), requires_grad=True)\n",
    "        self.top = nn.Sequential(nn.Conv1d(3, 32, kernel_size=1), nn.LeakyReLU(),\n",
    "                                 nn.Conv1d(32, 8, kernel_size=1), nn.LeakyReLU(),\n",
    "                                 nn.Conv1d(8, 1, kernel_size=1))\n",
    "        \n",
    "    def forward(self, inputs):\n",
    "        article_hist, week_hist = inputs[0], inputs[1]\n",
    "        x = self.article_emb(article_hist)\n",
    "        x = F.normalize(x, dim=2)\n",
    "        \n",
    "        x = x@F.normalize(self.article_emb.weight).T\n",
    "        \n",
    "        x, indices = x.max(axis=1)\n",
    "        x = x.clamp(1e-3, 0.999)\n",
    "        x = -torch.log(1/x - 1)\n",
    "        \n",
    "        max_week = week_hist.unsqueeze(2).repeat(1, 1, x.shape[-1]).gather(1, indices.unsqueeze(1).repeat(1, week_hist.shape[1], 1))\n",
    "        max_week = max_week.mean(axis=1).unsqueeze(1)\n",
    "        \n",
    "        x = torch.cat([x.unsqueeze(1), max_week,\n",
    "                       self.article_likelihood[None, None, :].repeat(x.shape[0], 1, 1)], axis=1)\n",
    "        \n",
    "        x = self.top(x).squeeze(1)\n",
    "        return x\n",
    "    \n",
    "    \n",
    "model = HMModel((len(le_article.classes_), 512))\n",
    "# model = model.cuda()"
   ]
  },
  {
   "cell_type": "code",
   "execution_count": null,
   "id": "50128424",
   "metadata": {
    "execution": {
     "iopub.execute_input": "2022-03-23T06:51:13.031562Z",
     "iopub.status.busy": "2022-03-23T06:51:13.030684Z",
     "iopub.status.idle": "2022-03-23T06:51:13.039186Z",
     "shell.execute_reply": "2022-03-23T06:51:13.039650Z",
     "shell.execute_reply.started": "2022-03-18T13:14:32.318306Z"
    },
    "papermill": {
     "duration": 0.039922,
     "end_time": "2022-03-23T06:51:13.039779",
     "exception": false,
     "start_time": "2022-03-23T06:51:12.999857",
     "status": "completed"
    },
    "tags": []
   },
   "outputs": [],
   "source": [
    "import sys\n",
    "\n",
    "def calc_map(topk_preds, target_array, k=12):\n",
    "    metric = []\n",
    "    tp, fp = 0, 0\n",
    "    \n",
    "    for pred in topk_preds:\n",
    "        if target_array[pred]:\n",
    "            tp += 1\n",
    "            metric.append(tp/(tp + fp))\n",
    "        else:\n",
    "            fp += 1\n",
    "            \n",
    "    return np.sum(metric) / min(k, target_array.sum())\n",
    "\n",
    "def read_data(data):\n",
    "    return tuple(d.cuda() for d in data[:-1]), data[-1].cuda()\n",
    "\n",
    "\n",
    "def validate(model, val_loader, k=12):\n",
    "    model.eval()\n",
    "    \n",
    "    tbar = tqdm(val_loader, file=sys.stdout)\n",
    "    \n",
    "    maps = []\n",
    "    \n",
    "    with torch.no_grad():\n",
    "        for idx, data in enumerate(tbar):\n",
    "            inputs, target = read_data(data)\n",
    "\n",
    "            logits = model(inputs)\n",
    "\n",
    "            _, indices = torch.topk(logits, k, dim=1)\n",
    "\n",
    "            indices = indices.detach().cpu().numpy()\n",
    "            target = target.detach().cpu().numpy()\n",
    "\n",
    "            for i in range(indices.shape[0]):\n",
    "                maps.append(calc_map(indices[i], target[i]))\n",
    "        \n",
    "    \n",
    "    return np.mean(maps)\n",
    "\n",
    "SEQ_LEN = 16\n",
    "\n",
    "BS = 256\n",
    "NW = 8\n",
    "\n",
    "val_dataset = HMDataset(val_df, SEQ_LEN)\n",
    "val_loader = DataLoader(val_dataset, batch_size=BS, shuffle=False, num_workers=NW,\n",
    "                          pin_memory=False, drop_last=False)"
   ]
  },
  {
   "cell_type": "markdown",
   "id": "49a2892e",
   "metadata": {
    "papermill": {
     "duration": 0.020314,
     "end_time": "2022-03-23T06:51:13.080481",
     "exception": false,
     "start_time": "2022-03-23T06:51:13.060167",
     "status": "completed"
    },
    "tags": []
   },
   "source": [
    "### Train and validate"
   ]
  },
  {
   "cell_type": "code",
   "execution_count": null,
   "id": "651509cf",
   "metadata": {
    "execution": {
     "iopub.execute_input": "2022-03-23T06:51:13.134941Z",
     "iopub.status.busy": "2022-03-23T06:51:13.129730Z",
     "iopub.status.idle": "2022-03-23T08:26:13.320122Z",
     "shell.execute_reply": "2022-03-23T08:26:13.321360Z",
     "shell.execute_reply.started": "2022-03-18T13:18:03.508151Z"
    },
    "papermill": {
     "duration": 5700.219561,
     "end_time": "2022-03-23T08:26:13.321605",
     "exception": false,
     "start_time": "2022-03-23T06:51:13.102044",
     "status": "completed"
    },
    "tags": []
   },
   "outputs": [
    {
     "name": "stderr",
     "output_type": "stream",
     "text": [
      "c:\\Users\\frede\\Desktop\\Proj\\lib\\site-packages\\torch\\cuda\\amp\\grad_scaler.py:115: UserWarning: torch.cuda.amp.GradScaler is enabled, but CUDA is not available.  Disabling.\n",
      "  warnings.warn(\"torch.cuda.amp.GradScaler is enabled, but CUDA is not available.  Disabling.\")\n"
     ]
    },
    {
     "name": "stdout",
     "output_type": "stream",
     "text": [
      "  0%|          | 0/1172 [00:00<?, ?it/s]"
     ]
    }
   ],
   "source": [
    "def dice_loss(y_pred, y_true):\n",
    "    y_pred = y_pred.sigmoid()\n",
    "    intersect = (y_true*y_pred).sum(axis=1)\n",
    "    \n",
    "    return 1 - (intersect/(intersect + y_true.sum(axis=1) + y_pred.sum(axis=1))).mean()\n",
    "\n",
    "\n",
    "def train(model, train_loader, val_loader, epochs):\n",
    "    np.random.seed(SEED)\n",
    "    \n",
    "    optimizer = get_optimizer(model)\n",
    "    scaler = torch.cuda.amp.GradScaler()\n",
    "\n",
    "    criterion = torch.nn.BCEWithLogitsLoss()\n",
    "    \n",
    "    for e in range(epochs):\n",
    "        model.train()\n",
    "        tbar = tqdm(train_loader, file=sys.stdout)\n",
    "        \n",
    "        lr = adjust_lr(optimizer, e)\n",
    "        \n",
    "        loss_list = []\n",
    "\n",
    "        for idx, data in enumerate(tbar):\n",
    "            inputs, target = read_data(data)\n",
    "\n",
    "            optimizer.zero_grad()\n",
    "            \n",
    "            with torch.cuda.amp.autocast():\n",
    "                logits = model(inputs)\n",
    "                loss = criterion(logits, target) + dice_loss(logits, target)\n",
    "            \n",
    "            \n",
    "            #loss.backward()\n",
    "            scaler.scale(loss).backward()\n",
    "            #optimizer.step()\n",
    "            scaler.step(optimizer)\n",
    "            scaler.update()\n",
    "            \n",
    "            loss_list.append(loss.detach().cpu().item())\n",
    "            \n",
    "            avg_loss = np.round(100*np.mean(loss_list), 4)\n",
    "\n",
    "            tbar.set_description(f\"Epoch {e+1} Loss: {avg_loss} lr: {lr}\")\n",
    "            \n",
    "        val_map = validate(model, val_loader)\n",
    "\n",
    "        log_text = f\"Epoch {e+1}\\nTrain Loss: {avg_loss}\\nValidation MAP: {val_map}\\n\"\n",
    "            \n",
    "        print(log_text)\n",
    "        \n",
    "        #logfile = open(f\"models/{MODEL_NAME}_{SEED}.txt\", 'a')\n",
    "        #logfile.write(log_text)\n",
    "        #logfile.close()\n",
    "    return model\n",
    "\n",
    "\n",
    "MODEL_NAME = \"exp001\"\n",
    "SEED = 0\n",
    "\n",
    "train_dataset = HMDataset(train_df, SEQ_LEN)\n",
    "train_loader = DataLoader(train_dataset, batch_size=BS, shuffle=True, num_workers=NW,\n",
    "                          pin_memory=False, drop_last=True)\n",
    "\n",
    "model = train(model, train_loader, val_loader, epochs=10)"
   ]
  },
  {
   "cell_type": "markdown",
   "id": "ecafbd82",
   "metadata": {
    "papermill": {
     "duration": 8.498733,
     "end_time": "2022-03-23T08:26:30.213787",
     "exception": false,
     "start_time": "2022-03-23T08:26:21.715054",
     "status": "completed"
    },
    "tags": []
   },
   "source": [
    "### Finetune with more recent data for submission (include validation set)"
   ]
  },
  {
   "cell_type": "code",
   "execution_count": null,
   "id": "1293bd20",
   "metadata": {
    "execution": {
     "iopub.execute_input": "2022-03-23T08:26:47.656716Z",
     "iopub.status.busy": "2022-03-23T08:26:47.655764Z",
     "iopub.status.idle": "2022-03-23T10:01:24.792722Z",
     "shell.execute_reply": "2022-03-23T10:01:24.792190Z"
    },
    "papermill": {
     "duration": 5685.600637,
     "end_time": "2022-03-23T10:01:24.792860",
     "exception": false,
     "start_time": "2022-03-23T08:26:39.192223",
     "status": "completed"
    },
    "tags": []
   },
   "outputs": [
    {
     "name": "stdout",
     "output_type": "stream",
     "text": [
      "Epoch 1 Loss: 99.2643 lr: 5e-05: 100%|██████████| 1160/1160 [08:01<00:00,  2.41it/s]\n",
      "100%|██████████| 270/270 [01:25<00:00,  3.15it/s]\n",
      "Epoch 1\n",
      "Train Loss: 99.2643\n",
      "Validation MAP: 0.023256641197997776\n",
      "\n",
      "Epoch 2 Loss: 99.2537 lr: 0.001: 100%|██████████| 1160/1160 [08:03<00:00,  2.40it/s]\n",
      "100%|██████████| 270/270 [01:26<00:00,  3.14it/s]\n",
      "Epoch 2\n",
      "Train Loss: 99.2537\n",
      "Validation MAP: 0.024672246696187967\n",
      "\n",
      "Epoch 3 Loss: 99.2354 lr: 0.001: 100%|██████████| 1160/1160 [08:03<00:00,  2.40it/s]\n",
      "100%|██████████| 270/270 [01:25<00:00,  3.15it/s]\n",
      "Epoch 3\n",
      "Train Loss: 99.2354\n",
      "Validation MAP: 0.02562083765000089\n",
      "\n",
      "Epoch 4 Loss: 99.2216 lr: 0.001: 100%|██████████| 1160/1160 [08:04<00:00,  2.40it/s]\n",
      "100%|██████████| 270/270 [01:22<00:00,  3.27it/s]\n",
      "Epoch 4\n",
      "Train Loss: 99.2216\n",
      "Validation MAP: 0.025799450348309206\n",
      "\n",
      "Epoch 5 Loss: 99.2122 lr: 0.001: 100%|██████████| 1160/1160 [08:05<00:00,  2.39it/s]\n",
      "100%|██████████| 270/270 [01:20<00:00,  3.34it/s]\n",
      "Epoch 5\n",
      "Train Loss: 99.2122\n",
      "Validation MAP: 0.025890916876756244\n",
      "\n",
      "Epoch 6 Loss: 99.2045 lr: 0.001: 100%|██████████| 1160/1160 [08:05<00:00,  2.39it/s]\n",
      "100%|██████████| 270/270 [01:21<00:00,  3.33it/s]\n",
      "Epoch 6\n",
      "Train Loss: 99.2045\n",
      "Validation MAP: 0.02607729343589984\n",
      "\n",
      "Epoch 7 Loss: 99.1901 lr: 0.0001: 100%|██████████| 1160/1160 [08:03<00:00,  2.40it/s]\n",
      "100%|██████████| 270/270 [01:21<00:00,  3.30it/s]\n",
      "Epoch 7\n",
      "Train Loss: 99.1901\n",
      "Validation MAP: 0.026111695546315962\n",
      "\n",
      "Epoch 8 Loss: 99.189 lr: 0.0001: 100%|██████████| 1160/1160 [08:03<00:00,  2.40it/s]\n",
      "100%|██████████| 270/270 [01:21<00:00,  3.33it/s]\n",
      "Epoch 8\n",
      "Train Loss: 99.189\n",
      "Validation MAP: 0.0260853782917232\n",
      "\n",
      "Epoch 9 Loss: 99.1882 lr: 0.0001: 100%|██████████| 1160/1160 [08:03<00:00,  2.40it/s]\n",
      "100%|██████████| 270/270 [01:25<00:00,  3.15it/s]\n",
      "Epoch 9\n",
      "Train Loss: 99.1882\n",
      "Validation MAP: 0.026044142084078233\n",
      "\n",
      "Epoch 10 Loss: 99.1864 lr: 1e-05: 100%|██████████| 1160/1160 [08:01<00:00,  2.41it/s]\n",
      "100%|██████████| 270/270 [01:29<00:00,  3.02it/s]\n",
      "Epoch 10\n",
      "Train Loss: 99.1864\n",
      "Validation MAP: 0.02604819799224476\n",
      "\n"
     ]
    }
   ],
   "source": [
    "train_dataset = HMDataset(train_df[train_df[\"week\"] < 4].append(val_df), SEQ_LEN)\n",
    "train_loader = DataLoader(train_dataset, batch_size=BS, shuffle=True, num_workers=NW,\n",
    "                          pin_memory=False, drop_last=True)\n",
    "\n",
    "model = train(model, train_loader, val_loader, epochs=10)"
   ]
  },
  {
   "cell_type": "code",
   "execution_count": null,
   "id": "dff67fa5",
   "metadata": {
    "execution": {
     "iopub.execute_input": "2022-03-23T10:01:58.873507Z",
     "iopub.status.busy": "2022-03-23T10:01:58.872704Z",
     "iopub.status.idle": "2022-03-23T10:02:03.426905Z",
     "shell.execute_reply": "2022-03-23T10:02:03.427324Z",
     "shell.execute_reply.started": "2022-03-18T13:19:34.730559Z"
    },
    "papermill": {
     "duration": 21.918187,
     "end_time": "2022-03-23T10:02:03.427465",
     "exception": false,
     "start_time": "2022-03-23T10:01:41.509278",
     "status": "completed"
    },
    "tags": []
   },
   "outputs": [
    {
     "name": "stdout",
     "output_type": "stream",
     "text": [
      "(1371980, 1)\n"
     ]
    },
    {
     "data": {
      "text/html": [
       "<div>\n",
       "<style scoped>\n",
       "    .dataframe tbody tr th:only-of-type {\n",
       "        vertical-align: middle;\n",
       "    }\n",
       "\n",
       "    .dataframe tbody tr th {\n",
       "        vertical-align: top;\n",
       "    }\n",
       "\n",
       "    .dataframe thead th {\n",
       "        text-align: right;\n",
       "    }\n",
       "</style>\n",
       "<table border=\"1\" class=\"dataframe\">\n",
       "  <thead>\n",
       "    <tr style=\"text-align: right;\">\n",
       "      <th></th>\n",
       "      <th>customer_id</th>\n",
       "    </tr>\n",
       "  </thead>\n",
       "  <tbody>\n",
       "    <tr>\n",
       "      <th>0</th>\n",
       "      <td>00000dbacae5abe5e23885899a1fa44253a17956c6d1c3...</td>\n",
       "    </tr>\n",
       "    <tr>\n",
       "      <th>1</th>\n",
       "      <td>0000423b00ade91418cceaf3b26c6af3dd342b51fd051e...</td>\n",
       "    </tr>\n",
       "    <tr>\n",
       "      <th>2</th>\n",
       "      <td>000058a12d5b43e67d225668fa1f8d618c13dc232df0ca...</td>\n",
       "    </tr>\n",
       "    <tr>\n",
       "      <th>3</th>\n",
       "      <td>00005ca1c9ed5f5146b52ac8639a40ca9d57aeff4d1bd2...</td>\n",
       "    </tr>\n",
       "    <tr>\n",
       "      <th>4</th>\n",
       "      <td>00006413d8573cd20ed7128e53b7b13819fe5cfc2d801f...</td>\n",
       "    </tr>\n",
       "  </tbody>\n",
       "</table>\n",
       "</div>"
      ],
      "text/plain": [
       "                                         customer_id\n",
       "0  00000dbacae5abe5e23885899a1fa44253a17956c6d1c3...\n",
       "1  0000423b00ade91418cceaf3b26c6af3dd342b51fd051e...\n",
       "2  000058a12d5b43e67d225668fa1f8d618c13dc232df0ca...\n",
       "3  00005ca1c9ed5f5146b52ac8639a40ca9d57aeff4d1bd2...\n",
       "4  00006413d8573cd20ed7128e53b7b13819fe5cfc2d801f..."
      ]
     },
     "execution_count": 14,
     "metadata": {},
     "output_type": "execute_result"
    }
   ],
   "source": [
    "test_df = pd.read_csv('../input/h-and-m-personalized-fashion-recommendations/sample_submission.csv').drop(\"prediction\", axis=1)\n",
    "print(test_df.shape)\n",
    "test_df.head()"
   ]
  },
  {
   "cell_type": "code",
   "execution_count": null,
   "id": "78d5bffd",
   "metadata": {
    "execution": {
     "iopub.execute_input": "2022-03-23T10:02:37.459949Z",
     "iopub.status.busy": "2022-03-23T10:02:37.452343Z",
     "iopub.status.idle": "2022-03-23T10:02:45.038102Z",
     "shell.execute_reply": "2022-03-23T10:02:45.037242Z",
     "shell.execute_reply.started": "2022-03-18T13:19:39.209411Z"
    },
    "papermill": {
     "duration": 24.090143,
     "end_time": "2022-03-23T10:02:45.038232",
     "exception": false,
     "start_time": "2022-03-23T10:02:20.948089",
     "status": "completed"
    },
    "tags": []
   },
   "outputs": [
    {
     "data": {
      "text/html": [
       "<div>\n",
       "<style scoped>\n",
       "    .dataframe tbody tr th:only-of-type {\n",
       "        vertical-align: middle;\n",
       "    }\n",
       "\n",
       "    .dataframe tbody tr th {\n",
       "        vertical-align: top;\n",
       "    }\n",
       "\n",
       "    .dataframe thead th {\n",
       "        text-align: right;\n",
       "    }\n",
       "</style>\n",
       "<table border=\"1\" class=\"dataframe\">\n",
       "  <thead>\n",
       "    <tr style=\"text-align: right;\">\n",
       "      <th></th>\n",
       "      <th>customer_id</th>\n",
       "      <th>week</th>\n",
       "      <th>article_id</th>\n",
       "      <th>week_history</th>\n",
       "    </tr>\n",
       "  </thead>\n",
       "  <tbody>\n",
       "    <tr>\n",
       "      <th>0</th>\n",
       "      <td>00000dbacae5abe5e23885899a1fa44253a17956c6d1c3...</td>\n",
       "      <td>-1</td>\n",
       "      <td>[7154]</td>\n",
       "      <td>[2]</td>\n",
       "    </tr>\n",
       "    <tr>\n",
       "      <th>1</th>\n",
       "      <td>0000423b00ade91418cceaf3b26c6af3dd342b51fd051e...</td>\n",
       "      <td>-1</td>\n",
       "      <td>NaN</td>\n",
       "      <td>NaN</td>\n",
       "    </tr>\n",
       "    <tr>\n",
       "      <th>2</th>\n",
       "      <td>000058a12d5b43e67d225668fa1f8d618c13dc232df0ca...</td>\n",
       "      <td>-1</td>\n",
       "      <td>[46435]</td>\n",
       "      <td>[1]</td>\n",
       "    </tr>\n",
       "    <tr>\n",
       "      <th>3</th>\n",
       "      <td>00005ca1c9ed5f5146b52ac8639a40ca9d57aeff4d1bd2...</td>\n",
       "      <td>-1</td>\n",
       "      <td>NaN</td>\n",
       "      <td>NaN</td>\n",
       "    </tr>\n",
       "    <tr>\n",
       "      <th>4</th>\n",
       "      <td>00006413d8573cd20ed7128e53b7b13819fe5cfc2d801f...</td>\n",
       "      <td>-1</td>\n",
       "      <td>NaN</td>\n",
       "      <td>NaN</td>\n",
       "    </tr>\n",
       "  </tbody>\n",
       "</table>\n",
       "</div>"
      ],
      "text/plain": [
       "                                         customer_id  week article_id  \\\n",
       "0  00000dbacae5abe5e23885899a1fa44253a17956c6d1c3...    -1     [7154]   \n",
       "1  0000423b00ade91418cceaf3b26c6af3dd342b51fd051e...    -1        NaN   \n",
       "2  000058a12d5b43e67d225668fa1f8d618c13dc232df0ca...    -1    [46435]   \n",
       "3  00005ca1c9ed5f5146b52ac8639a40ca9d57aeff4d1bd2...    -1        NaN   \n",
       "4  00006413d8573cd20ed7128e53b7b13819fe5cfc2d801f...    -1        NaN   \n",
       "\n",
       "  week_history  \n",
       "0          [2]  \n",
       "1          NaN  \n",
       "2          [1]  \n",
       "3          NaN  \n",
       "4          NaN  "
      ]
     },
     "execution_count": 15,
     "metadata": {},
     "output_type": "execute_result"
    }
   ],
   "source": [
    "def create_test_dataset(test_df):\n",
    "    week = -1\n",
    "    test_df[\"week\"] = week\n",
    "    \n",
    "    hist_df = df[(df[\"week\"] > week) & (df[\"week\"] <= week + WEEK_HIST_MAX)]\n",
    "    hist_df = hist_df.groupby(\"customer_id\").agg({\"article_id\": list, \"week\": list}).reset_index()\n",
    "    hist_df.rename(columns={\"week\": 'week_history'}, inplace=True)\n",
    "    \n",
    "    \n",
    "    return test_df.merge(hist_df, on=\"customer_id\", how=\"left\")\n",
    "\n",
    "test_df = create_test_dataset(test_df)\n",
    "test_df.head()"
   ]
  },
  {
   "cell_type": "code",
   "execution_count": null,
   "id": "4c9d7c4e",
   "metadata": {
    "execution": {
     "iopub.execute_input": "2022-03-23T10:03:19.078908Z",
     "iopub.status.busy": "2022-03-23T10:03:19.078327Z",
     "iopub.status.idle": "2022-03-23T10:03:19.086468Z",
     "shell.execute_reply": "2022-03-23T10:03:19.086049Z",
     "shell.execute_reply.started": "2022-03-18T13:19:46.236144Z"
    },
    "papermill": {
     "duration": 16.707069,
     "end_time": "2022-03-23T10:03:19.086584",
     "exception": false,
     "start_time": "2022-03-23T10:03:02.379515",
     "status": "completed"
    },
    "tags": []
   },
   "outputs": [
    {
     "data": {
      "text/plain": [
       "0.8008965145264508"
      ]
     },
     "execution_count": 16,
     "metadata": {},
     "output_type": "execute_result"
    }
   ],
   "source": [
    "test_df[\"article_id\"].isnull().mean()"
   ]
  },
  {
   "cell_type": "code",
   "execution_count": null,
   "id": "6bdf6bc7",
   "metadata": {
    "execution": {
     "iopub.execute_input": "2022-03-23T10:03:53.077386Z",
     "iopub.status.busy": "2022-03-23T10:03:53.076326Z",
     "iopub.status.idle": "2022-03-23T10:49:50.662756Z",
     "shell.execute_reply": "2022-03-23T10:49:50.662235Z",
     "shell.execute_reply.started": "2022-03-18T13:19:46.316755Z"
    },
    "papermill": {
     "duration": 2774.272091,
     "end_time": "2022-03-23T10:49:50.662900",
     "exception": false,
     "start_time": "2022-03-23T10:03:36.390809",
     "status": "completed"
    },
    "tags": []
   },
   "outputs": [
    {
     "name": "stderr",
     "output_type": "stream",
     "text": [
      "/opt/conda/lib/python3.7/site-packages/torch/utils/data/dataloader.py:481: UserWarning: This DataLoader will create 8 worker processes in total. Our suggested max number of worker in current system is 2, which is smaller than what this DataLoader is going to create. Please be aware that excessive worker creation might get DataLoader running slow or even freeze, lower the worker number to avoid potential slowness/freeze if necessary.\n",
      "  cpuset_checked))\n"
     ]
    },
    {
     "name": "stdout",
     "output_type": "stream",
     "text": [
      "100%|██████████| 5360/5360 [45:57<00:00,  1.94it/s]\n"
     ]
    }
   ],
   "source": [
    "test_ds = HMDataset(test_df, SEQ_LEN, is_test=True)\n",
    "test_loader = DataLoader(test_ds, batch_size=BS, shuffle=False, num_workers=NW,\n",
    "                          pin_memory=False, drop_last=False)\n",
    "\n",
    "\n",
    "def inference(model, loader, k=12):\n",
    "    model.eval()\n",
    "    \n",
    "    tbar = tqdm(loader, file=sys.stdout)\n",
    "    \n",
    "    preds = []\n",
    "    \n",
    "    with torch.no_grad():\n",
    "        for idx, data in enumerate(tbar):\n",
    "            inputs, target = read_data(data)\n",
    "\n",
    "            logits = model(inputs)\n",
    "\n",
    "            _, indices = torch.topk(logits, k, dim=1)\n",
    "\n",
    "            indices = indices.detach().cpu().numpy()\n",
    "            target = target.detach().cpu().numpy()\n",
    "\n",
    "            for i in range(indices.shape[0]):\n",
    "                preds.append(\" \".join(list(le_article.inverse_transform(indices[i]))))\n",
    "        \n",
    "    \n",
    "    return preds\n",
    "\n",
    "\n",
    "test_df[\"prediction\"] = inference(model, test_loader)"
   ]
  },
  {
   "cell_type": "code",
   "execution_count": null,
   "id": "0f15eb56",
   "metadata": {
    "execution": {
     "iopub.execute_input": "2022-03-23T10:50:28.034171Z",
     "iopub.status.busy": "2022-03-23T10:50:28.033204Z",
     "iopub.status.idle": "2022-03-23T10:50:39.456676Z",
     "shell.execute_reply": "2022-03-23T10:50:39.457103Z",
     "shell.execute_reply.started": "2022-03-18T13:20:11.209573Z"
    },
    "papermill": {
     "duration": 29.769323,
     "end_time": "2022-03-23T10:50:39.457280",
     "exception": false,
     "start_time": "2022-03-23T10:50:09.687957",
     "status": "completed"
    },
    "tags": []
   },
   "outputs": [],
   "source": [
    "test_df.to_csv(\"submission.csv\", index=False, columns=[\"customer_id\", \"prediction\"])"
   ]
  },
  {
   "cell_type": "code",
   "execution_count": null,
   "id": "b3f805e7",
   "metadata": {
    "papermill": {
     "duration": 19.131877,
     "end_time": "2022-03-23T10:51:17.984728",
     "exception": false,
     "start_time": "2022-03-23T10:50:58.852851",
     "status": "completed"
    },
    "tags": []
   },
   "outputs": [],
   "source": []
  }
 ],
 "metadata": {
  "kernelspec": {
   "display_name": "Python 3.10.6 ('Proj': venv)",
   "language": "python",
   "name": "python3"
  },
  "language_info": {
   "codemirror_mode": {
    "name": "ipython",
    "version": 3
   },
   "file_extension": ".py",
   "mimetype": "text/x-python",
   "name": "python",
   "nbconvert_exporter": "python",
   "pygments_lexer": "ipython3",
   "version": "3.10.6"
  },
  "papermill": {
   "default_parameters": {},
   "duration": 14632.428446,
   "end_time": "2022-03-23T10:51:39.406470",
   "environment_variables": {},
   "exception": null,
   "input_path": "__notebook__.ipynb",
   "output_path": "__notebook__.ipynb",
   "parameters": {},
   "start_time": "2022-03-23T06:47:46.978024",
   "version": "2.3.3"
  },
  "vscode": {
   "interpreter": {
    "hash": "402b62e985bc5250c3cc67917d34a79ef392b62d1143c3e95347f6ab24b3a3fe"
   }
  }
 },
 "nbformat": 4,
 "nbformat_minor": 5
}
