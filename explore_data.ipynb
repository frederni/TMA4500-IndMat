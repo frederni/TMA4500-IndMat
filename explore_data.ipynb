{
 "cells": [
  {
   "cell_type": "code",
   "execution_count": 3,
   "metadata": {},
   "outputs": [
    {
     "data": {
      "text/html": [
       "\n",
       "                <script type=\"application/javascript\" id=\"jupyter_black\">\n",
       "                (function() {\n",
       "                    if (window.IPython === undefined) {\n",
       "                        return\n",
       "                    }\n",
       "                    var msg = \"WARNING: it looks like you might have loaded \" +\n",
       "                        \"jupyter_black in a non-lab notebook with \" +\n",
       "                        \"`is_lab=True`. Please double check, and if \" +\n",
       "                        \"loading with `%load_ext` please review the README!\"\n",
       "                    console.log(msg)\n",
       "                    alert(msg)\n",
       "                })()\n",
       "                </script>\n",
       "                "
      ],
      "text/plain": [
       "<IPython.core.display.HTML object>"
      ]
     },
     "metadata": {},
     "output_type": "display_data"
    }
   ],
   "source": [
    "%reload_ext jupyter_black"
   ]
  },
  {
   "cell_type": "markdown",
   "metadata": {},
   "source": [
    "**Key takeaways from the dataset**\n",
    "\n",
    "* Some articles have no image\n",
    "* Some customers don't buy anything\n",
    "* The complete transaction data has 31 788 325 rows, just short of 32 million (!!)"
   ]
  },
  {
   "cell_type": "code",
   "execution_count": 4,
   "metadata": {},
   "outputs": [],
   "source": [
    "import numpy as np\n",
    "import matplotlib.pyplot as plt\n",
    "import pandas as pd\n",
    "from typing import Union, Tuple\n",
    "from types import NoneType\n",
    "import random, shutil, os, itertools, black, jupyter_black\n",
    "\n",
    "jupyter_black.load()"
   ]
  },
  {
   "cell_type": "markdown",
   "metadata": {},
   "source": [
    "## Sampling methods\n",
    "\n",
    "We need to be able to pull out realistic samples of the dataset. To do this, we first sample $n$ customers at random and include every transaction that they have done - these are the positive labels. In addition, we want to obtain additional transactions that are not related to the customers in the sample, working as a negative label. We implement this by saying that $k$% of the data are true labels, defaulting $k=10$%. Lastly, we pull out the article IDs in all the transactions and obtain the images for said article."
   ]
  },
  {
   "cell_type": "code",
   "execution_count": 5,
   "metadata": {},
   "outputs": [],
   "source": [
    "def naive_csv_sampler(\n",
    "    csv_path: str,\n",
    "    sample_size: int,\n",
    "    num_records: int | NoneType = None,\n",
    "    header: str | NoneType = \"infer\",\n",
    ") -> pd.DataFrame:\n",
    "    \"\"\"Read samples of rows from csv file\n",
    "\n",
    "    Args:\n",
    "        csv_path (str): Path to file including file extensions\n",
    "        sample_size (int): Number of rows to sample\n",
    "        num_records (int | NoneType, optional): Total records in file, defaults to None. If None, the file will be scanned (costly)\n",
    "        header (str | NoneType, optional): 'header'-parameter for pandas, defaults to 'infer'. Set to None if file has no header.\n",
    "\n",
    "    Returns:\n",
    "        pd.DataFrame: Dataframe with sampled entries (and potentially header)\n",
    "    \"\"\"\n",
    "    if num_records is None:\n",
    "        num_records = newlines_in_csv(csv_path)\n",
    "    indices_skip = sorted(\n",
    "        random.sample(range(1, num_records + 1), num_records - sample_size)\n",
    "    )\n",
    "    return pd.read_csv(csv_path, skiprows=indices_skip, header=header)\n",
    "\n",
    "\n",
    "def newlines_in_csv(csv_path: str, chunk_size: int = 1024) -> int:\n",
    "    \"\"\"Counts number of newlines in csv file without loading entire file to memory.\n",
    "    The number of newlines is the same as number of rows assuming,\n",
    "        * EITHER csv has a header and last entry does not end with newline\n",
    "        * OR csv does not have a header, but last entry ends with newline\n",
    "        * ALWAYS data does not have any nested newline madness\n",
    "    Originally from orlp, https://stackoverflow.com/a/64744699\n",
    "\n",
    "    Args:\n",
    "        csv_path (str): Path of csv file\n",
    "        chunk_size (int, optional): How many KB to process at at a time. Defaults to 1024 = 1 MB.\n",
    "\n",
    "    Returns:\n",
    "        int: Number of newlines\n",
    "    \"\"\"\n",
    "    chunk = chunk_size**2\n",
    "    f = np.memmap(csv_path)\n",
    "    number_newlines = sum(\n",
    "        np.sum(f[i : i + chunk] == ord(\"\\n\")) for i in range(0, len(f), chunk)\n",
    "    )\n",
    "    del f\n",
    "    return number_newlines"
   ]
  },
  {
   "cell_type": "code",
   "execution_count": 7,
   "metadata": {},
   "outputs": [],
   "source": [
    "def copy_img_from_article(df: pd.DataFrame, outpath):\n",
    "    for id in df[\"article_id\"]:\n",
    "        id0 = \"0\" + str(id)\n",
    "        img_path = f\"./dataset/images/{id0[:3]}/{id0}.jpg\"\n",
    "        if not os.path.isfile(img_path):\n",
    "            continue  # ID has no image (happens for some cases)\n",
    "        out_dir = f\"./{outpath}/images/{id0[:3]}/\"\n",
    "        if not os.path.isdir(out_dir):\n",
    "            os.makedirs(out_dir)\n",
    "            shutil.copy(img_path, out_dir)\n",
    "\n",
    "\n",
    "# copy_img_from_article(df_art, \"dataset_sample\")"
   ]
  },
  {
   "cell_type": "markdown",
   "metadata": {},
   "source": [
    "## Data loading and preprocessing"
   ]
  },
  {
   "cell_type": "code",
   "execution_count": 8,
   "metadata": {},
   "outputs": [],
   "source": [
    "# Cleaning up the datasets\n",
    "from typing import Iterable\n",
    "\n",
    "\n",
    "def load_min_data(filename: str | Iterable):\n",
    "    dfs = []\n",
    "    if isinstance(filename, str):\n",
    "        filename = [filename]\n",
    "    for fn in filename:\n",
    "        df = pd.read_csv(fn)\n",
    "        # All min-datasets have an index column which has to be dropped:\n",
    "        dfs.append(df.drop(df.columns[0], axis=1))\n",
    "    return dfs\n",
    "\n",
    "\n",
    "def clean_customer_data(df):\n",
    "    # df = df.drop(\"FN\", axis=1) # I they're not exactly equal\n",
    "    df.loc[\n",
    "        ~df[\"fashion_news_frequency\"].isin([\"Regularly\", \"Monthly\"]),\n",
    "        \"fashion_news_frequency\",\n",
    "    ] = \"None\"\n",
    "    return df"
   ]
  },
  {
   "cell_type": "markdown",
   "metadata": {},
   "source": [
    "Number of rows in complete transactions csv:"
   ]
  },
  {
   "cell_type": "code",
   "execution_count": 9,
   "metadata": {},
   "outputs": [
    {
     "data": {
      "text/plain": [
       "31788325"
      ]
     },
     "execution_count": 9,
     "metadata": {},
     "output_type": "execute_result"
    }
   ],
   "source": [
    "newlines_in_csv(\"dataset/transactions_train.csv\")"
   ]
  },
  {
   "cell_type": "code",
   "execution_count": 10,
   "metadata": {},
   "outputs": [],
   "source": [
    "# Look at what data we actually have\n",
    "\n",
    "transactions_full = pd.read_csv(\"dataset/transactions_train.csv\")\n",
    "customers_full = pd.read_csv(\"dataset/customers.csv\")\n",
    "articles_full = pd.read_csv(\"dataset/articles.csv\")"
   ]
  },
  {
   "cell_type": "code",
   "execution_count": 11,
   "metadata": {},
   "outputs": [
    {
     "name": "stdout",
     "output_type": "stream",
     "text": [
      "Transactions:  t_dat, customer_id, article_id, price, sales_channel_id\n",
      "---\n",
      "Customers: customer_id, FN, Active, club_member_status, fashion_news_frequency, age, postal_code\n",
      "---\n",
      "Articles: article_id, product_code, prod_name, product_type_no, product_type_name, product_group_name, graphical_appearance_no, graphical_appearance_name, colour_group_code, colour_group_name, perceived_colour_value_id, perceived_colour_value_name, perceived_colour_master_id, perceived_colour_master_name, department_no, department_name, index_code, index_name, index_group_no, index_group_name, section_no, section_name, garment_group_no, garment_group_name, detail_desc\n",
      "---\n"
     ]
    }
   ],
   "source": [
    "# Column types\n",
    "print(\"Transactions: \", \", \".join(transactions_full.columns), end=\"\\n---\\n\")\n",
    "print(\"Customers:\", \", \".join(customers_full.columns), end=\"\\n---\\n\")\n",
    "print(\"Articles:\", \", \".join(articles_full.columns), end=\"\\n---\\n\")"
   ]
  },
  {
   "cell_type": "markdown",
   "metadata": {},
   "source": [
    "**Customer data**"
   ]
  },
  {
   "cell_type": "code",
   "execution_count": 12,
   "metadata": {},
   "outputs": [
    {
     "name": "stdout",
     "output_type": "stream",
     "text": [
      "FN [nan  1.]\n",
      "Active [nan  1.]\n",
      "club_member_status ['ACTIVE' nan 'PRE-CREATE' 'LEFT CLUB']\n",
      "fashion_news_frequency ['NONE' 'Regularly' nan 'Monthly' 'None']\n"
     ]
    }
   ],
   "source": [
    "# What values do the categorical columns take?\n",
    "for col in [\"FN\", \"Active\", \"club_member_status\", \"fashion_news_frequency\"]:\n",
    "    print(col, customers_full[col].unique())"
   ]
  },
  {
   "cell_type": "code",
   "execution_count": 13,
   "metadata": {},
   "outputs": [
    {
     "name": "stdout",
     "output_type": "stream",
     "text": [
      "9603860\n"
     ]
    },
    {
     "data": {
      "text/html": [
       "<div>\n",
       "<style scoped>\n",
       "    .dataframe tbody tr th:only-of-type {\n",
       "        vertical-align: middle;\n",
       "    }\n",
       "\n",
       "    .dataframe tbody tr th {\n",
       "        vertical-align: top;\n",
       "    }\n",
       "\n",
       "    .dataframe thead th {\n",
       "        text-align: right;\n",
       "    }\n",
       "</style>\n",
       "<table border=\"1\" class=\"dataframe\">\n",
       "  <thead>\n",
       "    <tr style=\"text-align: right;\">\n",
       "      <th></th>\n",
       "      <th>Column</th>\n",
       "      <th>Number NaN</th>\n",
       "      <th>Portion of entries NaN</th>\n",
       "    </tr>\n",
       "  </thead>\n",
       "  <tbody>\n",
       "    <tr>\n",
       "      <th>0</th>\n",
       "      <td>customer_id</td>\n",
       "      <td>0</td>\n",
       "      <td>0.0000</td>\n",
       "    </tr>\n",
       "    <tr>\n",
       "      <th>1</th>\n",
       "      <td>FN</td>\n",
       "      <td>6265350</td>\n",
       "      <td>0.6524</td>\n",
       "    </tr>\n",
       "    <tr>\n",
       "      <th>2</th>\n",
       "      <td>Active</td>\n",
       "      <td>6353032</td>\n",
       "      <td>0.6615</td>\n",
       "    </tr>\n",
       "    <tr>\n",
       "      <th>3</th>\n",
       "      <td>club_member_status</td>\n",
       "      <td>42434</td>\n",
       "      <td>0.0044</td>\n",
       "    </tr>\n",
       "    <tr>\n",
       "      <th>4</th>\n",
       "      <td>fashion_news_frequency</td>\n",
       "      <td>112063</td>\n",
       "      <td>0.0117</td>\n",
       "    </tr>\n",
       "    <tr>\n",
       "      <th>5</th>\n",
       "      <td>age</td>\n",
       "      <td>111027</td>\n",
       "      <td>0.0116</td>\n",
       "    </tr>\n",
       "    <tr>\n",
       "      <th>6</th>\n",
       "      <td>postal_code</td>\n",
       "      <td>0</td>\n",
       "      <td>0.0000</td>\n",
       "    </tr>\n",
       "  </tbody>\n",
       "</table>\n",
       "</div>"
      ],
      "text/plain": [
       "                   Column  Number NaN  Portion of entries NaN\n",
       "0             customer_id           0                  0.0000\n",
       "1                      FN     6265350                  0.6524\n",
       "2                  Active     6353032                  0.6615\n",
       "3      club_member_status       42434                  0.0044\n",
       "4  fashion_news_frequency      112063                  0.0117\n",
       "5                     age      111027                  0.0116\n",
       "6             postal_code           0                  0.0000"
      ]
     },
     "execution_count": 13,
     "metadata": {},
     "output_type": "execute_result"
    }
   ],
   "source": [
    "# NaN-data of customers\n",
    "## Several customers have NaN-fields, let's have a look at how many..\n",
    "\n",
    "num_customers = customers_full.size\n",
    "res = {\"Column\": [], \"Number NaN\": [], \"Portion of entries NaN\": []}\n",
    "for col in customers_full.columns:\n",
    "    num_na = customers_full[pd.isna(customers_full[col])].size\n",
    "    res[\"Column\"].append(col)\n",
    "    res[\"Number NaN\"].append(num_na)\n",
    "    res[\"Portion of entries NaN\"].append(round(num_na / num_customers, 4))\n",
    "print(num_customers)\n",
    "pd.DataFrame(res)"
   ]
  },
  {
   "cell_type": "markdown",
   "metadata": {},
   "source": [
    "We see that about 1.16% of ages are NaN. Thus, it should be safe to omit these entries, whereas for *FN* and *Active*, over half of the entries are NaN. This is since NaN here represents the negative in a binary variable, where 1 indicates `True` and NaN indicates `False`."
   ]
  },
  {
   "cell_type": "code",
   "execution_count": 14,
   "metadata": {},
   "outputs": [
    {
     "data": {
      "text/plain": [
       "mean    36.386965\n",
       "std     14.313628\n",
       "min     16.000000\n",
       "25%     24.000000\n",
       "50%     32.000000\n",
       "75%     49.000000\n",
       "max     99.000000\n",
       "Name: age, dtype: float64"
      ]
     },
     "execution_count": 14,
     "metadata": {},
     "output_type": "execute_result"
    }
   ],
   "source": [
    "# Variation of ages in ages\n",
    "customers_full.describe()[\"age\"][1:]"
   ]
  },
  {
   "cell_type": "markdown",
   "metadata": {},
   "source": [
    "The total mean of ages are 36, but is the distribution of ages unimodal?"
   ]
  },
  {
   "cell_type": "code",
   "execution_count": 15,
   "metadata": {},
   "outputs": [
    {
     "data": {
      "image/png": "[encoded data removed]",
      "text/plain": [
       "<Figure size 640x480 with 1 Axes>"
      ]
     },
     "metadata": {},
     "output_type": "display_data"
    }
   ],
   "source": [
    "import matplotlib.pyplot as plt\n",
    "from scipy.stats import gaussian_kde\n",
    "import numpy as np\n",
    "\n",
    "# plt.hist(customers_full[\"age\"], bins=50, alpha=0.7)\n",
    "# plt.title(\"Distribution of ages of customers\")\n",
    "samples = customers_full[\"age\"].dropna()\n",
    "h, e = np.histogram(samples, bins=100, density=True)\n",
    "x = np.linspace(e.min(), e.max())\n",
    "\n",
    "kde_fit = gaussian_kde(samples)\n",
    "plt.plot(x, kde_fit.pdf(x), \"r\", label=\"KDE fit of ages\")\n",
    "\n",
    "plt.bar(e[:-1], h, width=np.diff(e), ec=None, align=\"edge\", label=\"Histogram\")\n",
    "plt.legend()\n",
    "plt.show()"
   ]
  },
  {
   "cell_type": "markdown",
   "metadata": {},
   "source": [
    "We see that the ages have a multimodal distribution, where the first peak is for the early 20's and the next peak is around 50. Multiple modes may introduce issues with local minima in the machine learning algorithm."
   ]
  },
  {
   "cell_type": "markdown",
   "metadata": {},
   "source": [
    "## Exploring the article data\n",
    "\n",
    "From the previous output showing the columns in the datasets, we notice that all variables are indexed with a specific ID/group number;\n",
    "\n",
    "| Index                      | Value                        |\n",
    "|----------------------------|------------------------------|\n",
    "| product_code               | prod_name                    |\n",
    "| product_type_no            | product_type_name            |\n",
    "|                            | product_group_name           |\n",
    "| graphical_appearance_no    | graphical_appearance_name    |\n",
    "| colour_group_code          | colour_group_name            |\n",
    "| perceived_colour_value_id  | perceived_colour_value_name  |\n",
    "| perceived_colour_master_id | perceived_colour_master_name |\n",
    "| department_no              | department_name              |\n",
    "| index_code                 | index_name                   |\n",
    "| index_group_no             | index_group_name             |\n",
    "| section_no                 | section_name                 |\n",
    "| garment_group_no           | garment_group_name           |"
   ]
  },
  {
   "cell_type": "markdown",
   "metadata": {},
   "source": [
    "There are also some clear hierarchies within these column types"
   ]
  },
  {
   "cell_type": "code",
   "execution_count": 43,
   "metadata": {},
   "outputs": [
    {
     "data": {
      "text/plain": [
       "index_group_name  index_name                    \n",
       "Baby/Children     Baby Sizes 50-98                   8875\n",
       "                  Children Accessories, Swimwear     4615\n",
       "                  Children Sizes 134-170             9214\n",
       "                  Children Sizes 92-140             12007\n",
       "Divided           Divided                           15149\n",
       "Ladieswear        Ladies Accessories                 6961\n",
       "                  Ladieswear                        26001\n",
       "                  Lingeries/Tights                   6775\n",
       "Menswear          Menswear                          12553\n",
       "Sport             Sport                              3392\n",
       "Name: article_id, dtype: int64"
      ]
     },
     "execution_count": 43,
     "metadata": {},
     "output_type": "execute_result"
    }
   ],
   "source": [
    "articles_full.groupby([\"index_group_name\", \"index_name\"]).count()[\"article_id\"]"
   ]
  },
  {
   "cell_type": "code",
   "execution_count": 44,
   "metadata": {},
   "outputs": [
    {
     "data": {
      "text/plain": [
       "product_group_name   product_type_name\n",
       "Accessories          Accessories set         7\n",
       "                     Alice band              6\n",
       "                     Baby Bib                3\n",
       "                     Bag                  1280\n",
       "                     Beanie                 56\n",
       "                                          ... \n",
       "Underwear            Underwear corset        7\n",
       "                     Underwear set          47\n",
       "Underwear/nightwear  Sleep Bag               6\n",
       "                     Sleeping sack          48\n",
       "Unknown              Unknown               121\n",
       "Name: article_id, Length: 132, dtype: int64"
      ]
     },
     "execution_count": 44,
     "metadata": {},
     "output_type": "execute_result"
    }
   ],
   "source": [
    "articles_full.groupby([\"product_group_name\", \"product_type_name\"]).count()[\"article_id\"]"
   ]
  },
  {
   "cell_type": "code",
   "execution_count": 88,
   "metadata": {},
   "outputs": [
    {
     "ename": "ValueError",
     "evalue": "The truth value of an array with more than one element is ambiguous. Use a.any() or a.all()",
     "output_type": "error",
     "traceback": [
      "\u001b[1;31m---------------------------------------------------------------------------\u001b[0m",
      "\u001b[1;31mValueError\u001b[0m                                Traceback (most recent call last)",
      "\u001b[1;32m~\\AppData\\Local\\Temp\\ipykernel_9380\\4107288140.py\u001b[0m in \u001b[0;36m<cell line: 1>\u001b[1;34m()\u001b[0m\n\u001b[0;32m      1\u001b[0m articles_full.loc[\n\u001b[0;32m      2\u001b[0m     \u001b[1;33m:\u001b[0m\u001b[1;33m,\u001b[0m\u001b[1;33m\u001b[0m\u001b[1;33m\u001b[0m\u001b[0m\n\u001b[1;32m----> 3\u001b[1;33m     any(\n\u001b[0m\u001b[0;32m      4\u001b[0m         [\n\u001b[0;32m      5\u001b[0m             \u001b[1;33m~\u001b[0m\u001b[0marticles_full\u001b[0m\u001b[1;33m.\u001b[0m\u001b[0mcolumns\u001b[0m\u001b[1;33m.\u001b[0m\u001b[0mstr\u001b[0m\u001b[1;33m.\u001b[0m\u001b[0mendswith\u001b[0m\u001b[1;33m(\u001b[0m\u001b[1;34m\"id\"\u001b[0m\u001b[1;33m)\u001b[0m\u001b[1;33m,\u001b[0m\u001b[1;33m\u001b[0m\u001b[1;33m\u001b[0m\u001b[0m\n",
      "\u001b[1;31mValueError\u001b[0m: The truth value of an array with more than one element is ambiguous. Use a.any() or a.all()"
     ]
    }
   ],
   "source": [
    "articles_full.loc[\n",
    "    :,\n",
    "    any(\n",
    "        [\n",
    "            ~articles_full.columns.str.endswith(\"id\"),\n",
    "            articles_full.columns.str.endswith(\"code\"),\n",
    "        ]\n",
    "    ),\n",
    "]"
   ]
  },
  {
   "cell_type": "code",
   "execution_count": 68,
   "metadata": {},
   "outputs": [
    {
     "name": "stderr",
     "output_type": "stream",
     "text": [
      "C:\\Users\\frede\\AppData\\Local\\Temp\\ipykernel_9380\\3193707197.py:4: UserWarning: Boolean Series key will be reindexed to match DataFrame index.\n",
      "  data=articles_full[articles_full.apply(\n"
     ]
    },
    {
     "ename": "IndexingError",
     "evalue": "Unalignable boolean Series provided as indexer (index of the boolean Series and of the indexed object do not match).",
     "output_type": "error",
     "traceback": [
      "\u001b[1;31m---------------------------------------------------------------------------\u001b[0m",
      "\u001b[1;31mIndexingError\u001b[0m                             Traceback (most recent call last)",
      "\u001b[1;32m~\\AppData\\Local\\Temp\\ipykernel_9380\\3193707197.py\u001b[0m in \u001b[0;36m<cell line: 3>\u001b[1;34m()\u001b[0m\n\u001b[0;32m      2\u001b[0m \u001b[1;33m\u001b[0m\u001b[0m\n\u001b[0;32m      3\u001b[0m seaborn.pairplot(\n\u001b[1;32m----> 4\u001b[1;33m     data=articles_full[articles_full.apply(\n\u001b[0m\u001b[0;32m      5\u001b[0m         \u001b[1;32mlambda\u001b[0m \u001b[0mc\u001b[0m\u001b[1;33m:\u001b[0m \u001b[1;32mnot\u001b[0m \u001b[1;34m\"id\"\u001b[0m \u001b[1;32min\u001b[0m \u001b[0mc\u001b[0m\u001b[1;33m.\u001b[0m\u001b[0mname\u001b[0m \u001b[1;32mand\u001b[0m \u001b[1;32mnot\u001b[0m \u001b[1;34m\"code\"\u001b[0m \u001b[1;32min\u001b[0m \u001b[0mc\u001b[0m\u001b[1;33m.\u001b[0m\u001b[0mname\u001b[0m \u001b[1;32mand\u001b[0m \u001b[1;32mnot\u001b[0m \u001b[1;34m\"no\"\u001b[0m \u001b[1;32min\u001b[0m \u001b[0mc\u001b[0m\u001b[1;33m.\u001b[0m\u001b[0mname\u001b[0m\u001b[1;33m\u001b[0m\u001b[1;33m\u001b[0m\u001b[0m\n\u001b[0;32m      6\u001b[0m     )]\n",
      "\u001b[1;32mc:\\Users\\frede\\Desktop\\Proj\\lib\\site-packages\\pandas\\core\\frame.py\u001b[0m in \u001b[0;36m__getitem__\u001b[1;34m(self, key)\u001b[0m\n\u001b[0;32m   3494\u001b[0m         \u001b[1;31m# Do we have a (boolean) 1d indexer?\u001b[0m\u001b[1;33m\u001b[0m\u001b[1;33m\u001b[0m\u001b[0m\n\u001b[0;32m   3495\u001b[0m         \u001b[1;32mif\u001b[0m \u001b[0mcom\u001b[0m\u001b[1;33m.\u001b[0m\u001b[0mis_bool_indexer\u001b[0m\u001b[1;33m(\u001b[0m\u001b[0mkey\u001b[0m\u001b[1;33m)\u001b[0m\u001b[1;33m:\u001b[0m\u001b[1;33m\u001b[0m\u001b[1;33m\u001b[0m\u001b[0m\n\u001b[1;32m-> 3496\u001b[1;33m             \u001b[1;32mreturn\u001b[0m \u001b[0mself\u001b[0m\u001b[1;33m.\u001b[0m\u001b[0m_getitem_bool_array\u001b[0m\u001b[1;33m(\u001b[0m\u001b[0mkey\u001b[0m\u001b[1;33m)\u001b[0m\u001b[1;33m\u001b[0m\u001b[1;33m\u001b[0m\u001b[0m\n\u001b[0m\u001b[0;32m   3497\u001b[0m \u001b[1;33m\u001b[0m\u001b[0m\n\u001b[0;32m   3498\u001b[0m         \u001b[1;31m# We are left with two options: a single key, and a collection of keys,\u001b[0m\u001b[1;33m\u001b[0m\u001b[1;33m\u001b[0m\u001b[0m\n",
      "\u001b[1;32mc:\\Users\\frede\\Desktop\\Proj\\lib\\site-packages\\pandas\\core\\frame.py\u001b[0m in \u001b[0;36m_getitem_bool_array\u001b[1;34m(self, key)\u001b[0m\n\u001b[0;32m   3547\u001b[0m         \u001b[1;31m# check_bool_indexer will throw exception if Series key cannot\u001b[0m\u001b[1;33m\u001b[0m\u001b[1;33m\u001b[0m\u001b[0m\n\u001b[0;32m   3548\u001b[0m         \u001b[1;31m# be reindexed to match DataFrame rows\u001b[0m\u001b[1;33m\u001b[0m\u001b[1;33m\u001b[0m\u001b[0m\n\u001b[1;32m-> 3549\u001b[1;33m         \u001b[0mkey\u001b[0m \u001b[1;33m=\u001b[0m \u001b[0mcheck_bool_indexer\u001b[0m\u001b[1;33m(\u001b[0m\u001b[0mself\u001b[0m\u001b[1;33m.\u001b[0m\u001b[0mindex\u001b[0m\u001b[1;33m,\u001b[0m \u001b[0mkey\u001b[0m\u001b[1;33m)\u001b[0m\u001b[1;33m\u001b[0m\u001b[1;33m\u001b[0m\u001b[0m\n\u001b[0m\u001b[0;32m   3550\u001b[0m         \u001b[0mindexer\u001b[0m \u001b[1;33m=\u001b[0m \u001b[0mkey\u001b[0m\u001b[1;33m.\u001b[0m\u001b[0mnonzero\u001b[0m\u001b[1;33m(\u001b[0m\u001b[1;33m)\u001b[0m\u001b[1;33m[\u001b[0m\u001b[1;36m0\u001b[0m\u001b[1;33m]\u001b[0m\u001b[1;33m\u001b[0m\u001b[1;33m\u001b[0m\u001b[0m\n\u001b[0;32m   3551\u001b[0m         \u001b[1;32mreturn\u001b[0m \u001b[0mself\u001b[0m\u001b[1;33m.\u001b[0m\u001b[0m_take_with_is_copy\u001b[0m\u001b[1;33m(\u001b[0m\u001b[0mindexer\u001b[0m\u001b[1;33m,\u001b[0m \u001b[0maxis\u001b[0m\u001b[1;33m=\u001b[0m\u001b[1;36m0\u001b[0m\u001b[1;33m)\u001b[0m\u001b[1;33m\u001b[0m\u001b[1;33m\u001b[0m\u001b[0m\n",
      "\u001b[1;32mc:\\Users\\frede\\Desktop\\Proj\\lib\\site-packages\\pandas\\core\\indexing.py\u001b[0m in \u001b[0;36mcheck_bool_indexer\u001b[1;34m(index, key)\u001b[0m\n\u001b[0;32m   2381\u001b[0m         \u001b[0mmask\u001b[0m \u001b[1;33m=\u001b[0m \u001b[0misna\u001b[0m\u001b[1;33m(\u001b[0m\u001b[0mresult\u001b[0m\u001b[1;33m.\u001b[0m\u001b[0m_values\u001b[0m\u001b[1;33m)\u001b[0m\u001b[1;33m\u001b[0m\u001b[1;33m\u001b[0m\u001b[0m\n\u001b[0;32m   2382\u001b[0m         \u001b[1;32mif\u001b[0m \u001b[0mmask\u001b[0m\u001b[1;33m.\u001b[0m\u001b[0many\u001b[0m\u001b[1;33m(\u001b[0m\u001b[1;33m)\u001b[0m\u001b[1;33m:\u001b[0m\u001b[1;33m\u001b[0m\u001b[1;33m\u001b[0m\u001b[0m\n\u001b[1;32m-> 2383\u001b[1;33m             raise IndexingError(\n\u001b[0m\u001b[0;32m   2384\u001b[0m                 \u001b[1;34m\"Unalignable boolean Series provided as \"\u001b[0m\u001b[1;33m\u001b[0m\u001b[1;33m\u001b[0m\u001b[0m\n\u001b[0;32m   2385\u001b[0m                 \u001b[1;34m\"indexer (index of the boolean Series and of \"\u001b[0m\u001b[1;33m\u001b[0m\u001b[1;33m\u001b[0m\u001b[0m\n",
      "\u001b[1;31mIndexingError\u001b[0m: Unalignable boolean Series provided as indexer (index of the boolean Series and of the indexed object do not match)."
     ]
    }
   ],
   "source": [
    "import seaborn\n",
    "\n",
    "seaborn.pairplot(\n",
    "    data=articles_full[\n",
    "        articles_full.apply(\n",
    "            lambda c: not \"id\" in c.name and not \"code\" in c.name and not \"no\" in c.name\n",
    "        )\n",
    "    ]\n",
    ")"
   ]
  },
  {
   "cell_type": "code",
   "execution_count": 40,
   "metadata": {},
   "outputs": [
    {
     "name": "stdout",
     "output_type": "stream",
     "text": [
      "department_name\n",
      "Jersey                             4604\n",
      "Knitwear                           3503\n",
      "Trouser                            2655\n",
      "Blouse                             2362\n",
      "Dress                              2087\n",
      "                                   ... \n",
      "Accessories Other                     1\n",
      "Kids Boy License                      1\n",
      "Jersey inactive from S.6              1\n",
      "Woven bottoms inactive from S.7       1\n",
      "Shirt Extended inactive from s1       1\n",
      "Name: article_id, Length: 250, dtype: int64\n",
      "index_name\n",
      "Ladieswear                        26001\n",
      "Divided                           15149\n",
      "Menswear                          12553\n",
      "Children Sizes 92-140             12007\n",
      "Children Sizes 134-170             9214\n",
      "Baby Sizes 50-98                   8875\n",
      "Ladies Accessories                 6961\n",
      "Lingeries/Tights                   6775\n",
      "Children Accessories, Swimwear     4615\n",
      "Sport                              3392\n",
      "Name: article_id, dtype: int64\n",
      "index_group_name\n",
      "Ladieswear       39737\n",
      "Baby/Children    34711\n",
      "Divided          15149\n",
      "Menswear         12553\n",
      "Sport             3392\n",
      "Name: article_id, dtype: int64\n",
      "section_name\n",
      "Womens Everyday Collection        7295\n",
      "Divided Collection                7124\n",
      "Baby Essentials & Complements     4932\n",
      "Kids Girl                         4469\n",
      "Young Girl                        3899\n",
      "Womens Lingerie                   3598\n",
      "Girls Underwear & Basics          3490\n",
      "Womens Tailoring                  3376\n",
      "Kids Boy                          3328\n",
      "Womens Small accessories          3270\n",
      "Womens Casual                     2725\n",
      "Kids Outerwear                    2665\n",
      "Womens Trend                      2622\n",
      "Divided Projects                  2364\n",
      "Young Boy                         2352\n",
      "H&M+                              2337\n",
      "Men Underwear                     2322\n",
      "Mama                              2266\n",
      "Kids & Baby Shoes                 2142\n",
      "Boys Underwear & Basics           2034\n",
      "Womens Shoes                      2026\n",
      "Ladies H&M Sport                  1894\n",
      "Womens Swimwear, beachwear        1839\n",
      "Contemporary Smart                1778\n",
      "Baby Girl                         1760\n",
      "Divided Accessories               1732\n",
      "Kids Accessories, Swimwear & D    1731\n",
      "Divided Basics                    1723\n",
      "Baby Boy                          1717\n",
      "Womens Big accessories            1665\n",
      "Womens Everyday Basics            1581\n",
      "Womens Nightwear, Socks & Tigh    1566\n",
      "Contemporary Casual               1560\n",
      "Contemporary Street               1490\n",
      "Men Suits & Tailoring             1428\n",
      "Men Accessories                   1337\n",
      "Womens Premium                    1270\n",
      "Ladies Denim                      1101\n",
      "Divided Selected                   991\n",
      "Men H&M Sport                      872\n",
      "Womens Jackets                     829\n",
      "Special Collections                682\n",
      "Men Shoes                          645\n",
      "Mens Outerwear                     629\n",
      "Kids Sports                        626\n",
      "Collaborations                     559\n",
      "Denim Men                          521\n",
      "Men Edition                        330\n",
      "Men Project                        298\n",
      "Divided Asia keys                  280\n",
      "Kids Local Relevance               192\n",
      "Men Other 2                        190\n",
      "Divided Complements Other           35\n",
      "EQ Divided                          26\n",
      "Men Other                           25\n",
      "Ladies Other                         4\n",
      "Name: article_id, dtype: int64\n",
      "garment_group_name\n",
      "Jersey Fancy                     21445\n",
      "Accessories                      11519\n",
      "Jersey Basic                      8126\n",
      "Knitwear                          7490\n",
      "Under-, Nightwear                 7441\n",
      "Trousers                          6727\n",
      "Blouses                           5838\n",
      "Shoes                             5145\n",
      "Dresses Ladies                    4874\n",
      "Outdoor                           4501\n",
      "Unknown                           3873\n",
      "Trousers Denim                    3100\n",
      "Swimwear                          2787\n",
      "Socks and Tights                  2272\n",
      "Shirts                            2116\n",
      "Woven/Jersey/Knitted mix Baby     1965\n",
      "Shorts                            1559\n",
      "Dresses/Skirts girls              1541\n",
      "Skirts                            1254\n",
      "Special Offers                    1061\n",
      "Dressed                            908\n",
      "Name: article_id, dtype: int64\n"
     ]
    }
   ],
   "source": [
    "# Exploring the article data\n",
    "for col in (\n",
    "    \"department_name\",\n",
    "    \"index_name\",\n",
    "    \"index_group_name\",\n",
    "    \"section_name\",\n",
    "    \"garment_group_name\",\n",
    "):\n",
    "    print(articles_full.groupby(col).count()[\"article_id\"].sort_values(ascending=False))"
   ]
  }
 ],
 "metadata": {
  "kernelspec": {
   "display_name": "Python 3.10.6 ('Proj': venv)",
   "language": "python",
   "name": "python3"
  },
  "language_info": {
   "codemirror_mode": {
    "name": "ipython",
    "version": 3
   },
   "file_extension": ".py",
   "mimetype": "text/x-python",
   "name": "python",
   "nbconvert_exporter": "python",
   "pygments_lexer": "ipython3",
   "version": "3.10.6"
  },
  "vscode": {
   "interpreter": {
    "hash": "402b62e985bc5250c3cc67917d34a79ef392b62d1143c3e95347f6ab24b3a3fe"
   }
  }
 },
 "nbformat": 4,
 "nbformat_minor": 2
}
