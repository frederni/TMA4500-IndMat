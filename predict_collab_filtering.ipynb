{
 "cells": [
  {
   "cell_type": "markdown",
   "metadata": {},
   "source": [
    "<hr>\n",
    "\n",
    "# Trying out user-user collaborative filtering"
   ]
  },
  {
   "cell_type": "code",
   "execution_count": null,
   "metadata": {},
   "outputs": [],
   "source": [
    "\"\"\"Psudeocode\n",
    "* Create customer profiles for all customers in (sampled) dataset\n",
    "    * i.e. each customer ID has a vector r_ID whose elements represent items purchased\n",
    "* Compute Jaccard similarity between all r_IDs, independent of position\n",
    "* For a given customer x, choose the k customers closest to x\n",
    "* For an article i, wether or not to recommend is based on the recommendation score\n",
    "    r(x, i) = mean( [rel(y, i) for y in top k] )\n",
    "\"\"\"\n",
    "\n",
    "\n",
    "def position_indep_jaccard(x: list | set, y: list | set) -> float:\n",
    "    # Position-independent jaccard-similarity\n",
    "    x, y = set(x), set(y)\n",
    "    return len(x.intersection(y)) / len(x.union(y))\n",
    "\n",
    "\n",
    "\n",
    "def find_customer_similarity(\n",
    "    df_customer: pd.DataFrame, df_transactions: pd.DataFrame\n",
    ") -> Tuple[pd.DataFrame, dict]:\n",
    "    articles_dict = {}\n",
    "    for cust_ID in df_customer[\"customer_id\"]:\n",
    "        articles_dict[cust_ID] = df_transactions[\"article_id\"][\n",
    "            df_transactions[\"customer_id\"] == cust_ID\n",
    "        ].to_list()\n",
    "        # Pop customers without purchase history\n",
    "        if len(articles_dict[cust_ID]) == 0:\n",
    "            articles_dict.pop(cust_ID)\n",
    "    num_customers = len(df_customer)\n",
    "    print(f\"{num_customers = }\")\n",
    "    similarity_matrix = np.zeros((num_customers, num_customers))\n",
    "    # Iterate over customers:\n",
    "    for r, cust in enumerate(articles_dict.keys()):\n",
    "        for c, second in enumerate(articles_dict.keys()):\n",
    "            sim = position_indep_jaccard(articles_dict[cust], articles_dict[second])\n",
    "            similarity_matrix[r, c] = sim\n",
    "\n",
    "    return (\n",
    "        pd.DataFrame(\n",
    "            similarity_matrix, index=articles_dict.keys(), columns=articles_dict.keys()\n",
    "        ),\n",
    "        articles_dict,\n",
    "    )\n",
    "\n",
    "\n",
    "def get_recommendation(\n",
    "    similarity_matrix: pd.DataFrame,\n",
    "    articles_dict: dict,\n",
    "    customer_ID: str,\n",
    "    article_ID: int,\n",
    "    k: int,\n",
    ") -> float:\n",
    "    \"\"\"Produce recommendation score of an item based on its k closest customer behaviors\n",
    "\n",
    "    Args:\n",
    "        similarity_matrix (pd.DataFrame): nxn matrix of similarities between customers\n",
    "        articles_dict (dict): Dictionary of customer purchases on form {customer_id: [item1, item2, ...]}\n",
    "        customer_ID (str): The customer the recommendation score is based on\n",
    "        article_ID (int): The article the score is based on\n",
    "        k (int): How many (closest) customer-neighbors to include in computation.\n",
    "\n",
    "    Returns:\n",
    "        float: Measure of how well the item would fit the customer in question, between [0,1]\n",
    "    \"\"\"\n",
    "    # The k most similar customers IDs:\n",
    "    closest_customers = (\n",
    "        similarity_matrix[customer_ID].sort_values(ascending=False)[:k].index\n",
    "    )\n",
    "    return (\n",
    "        sum(1 if article_ID in articles_dict[cust] else 0 for cust in closest_customers)\n",
    "        / k\n",
    "    )"
   ]
  },
  {
   "cell_type": "code",
   "execution_count": null,
   "metadata": {},
   "outputs": [],
   "source": [
    "# Load sample data\n",
    "df_cust = pd.read_csv(\"dataset_sample/customer_min.csv\")\n",
    "df_tr = pd.read_csv(\"dataset_sample/transactions_min.csv\")\n",
    "df_art = pd.read_csv(\"dataset_sample/articles_min.csv\")\n",
    "sim_matr, art_dict = find_customer_similarity(df_cust, df_tr)"
   ]
  },
  {
   "cell_type": "code",
   "execution_count": null,
   "metadata": {},
   "outputs": [],
   "source": [
    "def get_n_recommendations(\n",
    "    n: int,\n",
    "    similarity_matrix: pd.DataFrame,\n",
    "    articles_dict: dict,\n",
    "    customer_ID: str,\n",
    "    k: int,\n",
    "    ignore_purchased: bool = True,\n",
    ") -> list:\n",
    "    \"\"\"Get the n 'best' recommended items for a specific customer ID\n",
    "\n",
    "    Args:\n",
    "        n (int): How many items to recommend\n",
    "        similarity_matrix (pd.DataFrame): Customer similarity matrix\n",
    "        articles_dict (dict): Dictionary of customer purchases on form {customer_id: [item1, item2, ...]}\n",
    "        customer_ID (str): _description_\n",
    "        k (int): _description_\n",
    "        ignore_purchased (bool, optional): _description_. Defaults to True.\n",
    "\n",
    "    Returns:\n",
    "        list: _description_\n",
    "    \"\"\"\n",
    "    # Get rec. score for all cases and choose n with highest score\n",
    "    # ignore_purchased to ignore those articles customer has already bought\n",
    "    blacklisted_articles = (\n",
    "        set(articles_dict[customer_ID]) if ignore_purchased else set()\n",
    "    )\n",
    "    art_IDs = set(itertools.chain(*articles_dict.values())) - blacklisted_articles\n",
    "    score_dict = {\n",
    "        art_ID: get_recommendation(\n",
    "            similarity_matrix, articles_dict, customer_ID, art_ID, k\n",
    "        )\n",
    "        for art_ID in art_IDs\n",
    "    }\n",
    "    n_best_items = {\n",
    "        k: v for k, v in sorted(score_dict.items(), key=lambda el: el[1], reverse=True)\n",
    "    }\n",
    "    # Return entire dict for debug purposes, but otherwise just the article IDs (not scores)\n",
    "    return list(itertools.islice(n_best_items.items(), n))\n",
    "    return list(n_best_items.keys())[:n]"
   ]
  },
  {
   "cell_type": "code",
   "execution_count": null,
   "metadata": {},
   "outputs": [],
   "source": [
    "get_n_recommendations(\n",
    "    n=5,\n",
    "    similarity_matrix=sim_matr,\n",
    "    articles_dict=art_dict,\n",
    "    customer_ID=\"008068b49b6bdd622ed406e30c8603270770174ebf300dbac0f5beac522921e0\",\n",
    "    k=5,\n",
    ")"
   ]
  },
  {
   "cell_type": "code",
   "execution_count": null,
   "metadata": {},
   "outputs": [],
   "source": [
    "\n",
    "get_recommendation(\n",
    "    similarity_matrix=sim_matr,\n",
    "    articles_dict=art_dict,\n",
    "    customer_ID='008068b49b6bdd622ed406e30c8603270770174ebf300dbac0f5beac522921e0',\n",
    "    article_ID=556255001,\n",
    "    k=5\n",
    ")\n"
   ]
  },
  {
   "cell_type": "markdown",
   "metadata": {},
   "source": [
    "In this case, two of the $k$ closest customers (including the customer itself) has bought the article in question. Thus we get a score of $\\frac25=0.4$"
   ]
  }
 ],
 "metadata": {
  "kernelspec": {
   "display_name": "Python 3.10.6 ('Proj': venv)",
   "language": "python",
   "name": "python3"
  },
  "language_info": {
   "codemirror_mode": {
    "name": "ipython",
    "version": 3
   },
   "file_extension": ".py",
   "mimetype": "text/x-python",
   "name": "python",
   "nbconvert_exporter": "python",
   "pygments_lexer": "ipython3",
   "version": "3.10.6"
  },
  "orig_nbformat": 4,
  "vscode": {
   "interpreter": {
    "hash": "402b62e985bc5250c3cc67917d34a79ef392b62d1143c3e95347f6ab24b3a3fe"
   }
  }
 },
 "nbformat": 4,
 "nbformat_minor": 2
}
