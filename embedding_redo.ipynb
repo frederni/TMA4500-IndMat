{
 "cells": [
  {
   "cell_type": "markdown",
   "metadata": {},
   "source": [
    "Since `predict_embedding` doesn't work the way I'd wish (I probably need LabelEncoder or something), I've tried to re-do the entire section based on this notebook: https://www.kaggle.com/code/aerdem4/h-m-pure-pytorch-baseline"
   ]
  },
  {
   "cell_type": "code",
   "execution_count": 3,
   "metadata": {},
   "outputs": [],
   "source": [
    "from sklearn.preprocessing import LabelEncoder\n",
    "import pandas as pd\n",
    "import numpy as np"
   ]
  },
  {
   "cell_type": "code",
   "execution_count": 4,
   "metadata": {},
   "outputs": [],
   "source": [
    "# Load data\n",
    "df = pd.read_csv(\"dataset/transactions_train.csv\", dtype={\"article_id\": str})"
   ]
  },
  {
   "cell_type": "code",
   "execution_count": 5,
   "metadata": {},
   "outputs": [
    {
     "data": {
      "text/plain": [
       "array(['0108775015', '0108775044', '0108775051', ..., '0953450001',\n",
       "       '0953763001', '0956217002'], dtype=object)"
      ]
     },
     "execution_count": 5,
     "metadata": {},
     "output_type": "execute_result"
    }
   ],
   "source": [
    "art_ids = np.concatenate([[\"placeholder\"], np.unique(df[\"article_id\"].values)])\n",
    "# TODO I don't why we concat placeholder - can we remove it as well?\n",
    "art_ids = np.unique(df[\"article_id\"].values)\n",
    "art_ids"
   ]
  },
  {
   "cell_type": "code",
   "execution_count": 12,
   "metadata": {},
   "outputs": [],
   "source": [
    "art_LE = LabelEncoder()\n",
    "art_LE.fit(art_ids)\n",
    "df[\"article_id_LE\"] = art_LE.transform(df[\"article_id\"])"
   ]
  },
  {
   "cell_type": "code",
   "execution_count": null,
   "metadata": {},
   "outputs": [
    {
     "data": {
      "text/html": [
       "\n",
       "                <script type=\"application/javascript\" id=\"jupyter_black\">\n",
       "                (function() {\n",
       "                    if (window.IPython === undefined) {\n",
       "                        return\n",
       "                    }\n",
       "                    var msg = \"WARNING: it looks like you might have loaded \" +\n",
       "                        \"jupyter_black in a non-lab notebook with \" +\n",
       "                        \"`is_lab=True`. Please double check, and if \" +\n",
       "                        \"loading with `%load_ext` please review the README!\"\n",
       "                    console.log(msg)\n",
       "                    alert(msg)\n",
       "                })()\n",
       "                </script>\n",
       "                "
      ],
      "text/plain": [
       "<IPython.core.display.HTML object>"
      ]
     },
     "metadata": {},
     "output_type": "display_data"
    }
   ],
   "source": [
    "%reload_ext jupyter_black"
   ]
  },
  {
   "cell_type": "code",
   "execution_count": 18,
   "metadata": {},
   "outputs": [
    {
     "data": {
      "text/html": [
       "<div>\n",
       "<style scoped>\n",
       "    .dataframe tbody tr th:only-of-type {\n",
       "        vertical-align: middle;\n",
       "    }\n",
       "\n",
       "    .dataframe tbody tr th {\n",
       "        vertical-align: top;\n",
       "    }\n",
       "\n",
       "    .dataframe thead th {\n",
       "        text-align: right;\n",
       "    }\n",
       "</style>\n",
       "<table border=\"1\" class=\"dataframe\">\n",
       "  <thead>\n",
       "    <tr style=\"text-align: right;\">\n",
       "      <th></th>\n",
       "      <th>article_id_LE</th>\n",
       "    </tr>\n",
       "    <tr>\n",
       "      <th>customer_id</th>\n",
       "      <th></th>\n",
       "    </tr>\n",
       "  </thead>\n",
       "  <tbody>\n",
       "    <tr>\n",
       "      <th>c09c1615d29fc0491fefb99267b14ef433a4246dcbf40c1b1a414f3978cdcdb2</th>\n",
       "      <td>[56188, 46692, 40080, 86051, 86061]</td>\n",
       "    </tr>\n",
       "    <tr>\n",
       "      <th>cb63bad5e05b89148f74ab90e035772a3608936d453353fb5007a84519c6fec6</th>\n",
       "      <td>[11546, 12579, 35020, 7987, 38403, 55188, 6497...</td>\n",
       "    </tr>\n",
       "    <tr>\n",
       "      <th>9626c2966f843819f358e8d9e6b9c19851b486a68726bcec8fdf75f1ad5e464b</th>\n",
       "      <td>[43091, 28279, 39494, 59362, 50106, 43090, 946...</td>\n",
       "    </tr>\n",
       "    <tr>\n",
       "      <th>36b571eede1bdbc03b20d9737b444d5ccb9f59fee6b99b4918c9424954e1e3e8</th>\n",
       "      <td>[2999, 37344, 32332, 11411, 37344, 48653, 4865...</td>\n",
       "    </tr>\n",
       "    <tr>\n",
       "      <th>88d71e3fecea2b9398c222ca01c72f51341a64b6f4a6b29b016b886c0b317e5a</th>\n",
       "      <td>[57782, 55527, 56630, 3108, 38578, 39952, 7175...</td>\n",
       "    </tr>\n",
       "    <tr>\n",
       "      <th>f87f68fcd418fdac0251b9fb602486dda4ea427c2ecfc7ee30726cd6add13d6e</th>\n",
       "      <td>[22590, 14228, 41506, 13312, 6700, 62606, 2827...</td>\n",
       "    </tr>\n",
       "    <tr>\n",
       "      <th>62661e27fa25112bf5fcd4aac98c21c3551781481d1352e7b6e82e523b49c24e</th>\n",
       "      <td>[1711, 1711, 1711, 1711, 78820, 97308]</td>\n",
       "    </tr>\n",
       "    <tr>\n",
       "      <th>dbaaed7efc0261ec5cd8367c220144ac2dab5add7699db6a79efe8f1528db4ad</th>\n",
       "      <td>[15987, 15972, 11006]</td>\n",
       "    </tr>\n",
       "    <tr>\n",
       "      <th>cbbb36621043e6f8a1a7d548746375ebbca288bb2559b21548509e4caf85bcfa</th>\n",
       "      <td>[43887, 9925, 49821, 17373, 77544, 80050, 7632...</td>\n",
       "    </tr>\n",
       "    <tr>\n",
       "      <th>84cb71e5ec97017a7de48c730763790576796eeef4b49817ceec4e1638f23c2f</th>\n",
       "      <td>[8635, 8952, 39339, 32764, 24233, 39845, 11339...</td>\n",
       "    </tr>\n",
       "  </tbody>\n",
       "</table>\n",
       "</div>"
      ],
      "text/plain": [
       "                                                                                        article_id_LE\n",
       "customer_id                                                                                          \n",
       "c09c1615d29fc0491fefb99267b14ef433a4246dcbf40c1...                [56188, 46692, 40080, 86051, 86061]\n",
       "cb63bad5e05b89148f74ab90e035772a3608936d453353f...  [11546, 12579, 35020, 7987, 38403, 55188, 6497...\n",
       "9626c2966f843819f358e8d9e6b9c19851b486a68726bce...  [43091, 28279, 39494, 59362, 50106, 43090, 946...\n",
       "36b571eede1bdbc03b20d9737b444d5ccb9f59fee6b99b4...  [2999, 37344, 32332, 11411, 37344, 48653, 4865...\n",
       "88d71e3fecea2b9398c222ca01c72f51341a64b6f4a6b29...  [57782, 55527, 56630, 3108, 38578, 39952, 7175...\n",
       "f87f68fcd418fdac0251b9fb602486dda4ea427c2ecfc7e...  [22590, 14228, 41506, 13312, 6700, 62606, 2827...\n",
       "62661e27fa25112bf5fcd4aac98c21c3551781481d1352e...             [1711, 1711, 1711, 1711, 78820, 97308]\n",
       "dbaaed7efc0261ec5cd8367c220144ac2dab5add7699db6...                              [15987, 15972, 11006]\n",
       "cbbb36621043e6f8a1a7d548746375ebbca288bb2559b21...  [43887, 9925, 49821, 17373, 77544, 80050, 7632...\n",
       "84cb71e5ec97017a7de48c730763790576796eeef4b4981...  [8635, 8952, 39339, 32764, 24233, 39845, 11339..."
      ]
     },
     "execution_count": 18,
     "metadata": {},
     "output_type": "execute_result"
    }
   ],
   "source": [
    "train_df = df.groupby(\"customer_id\").agg({\"article_id_LE\": list}).sample(10)\n",
    "train_df"
   ]
  },
  {
   "cell_type": "code",
   "execution_count": 69,
   "metadata": {},
   "outputs": [
    {
     "data": {
      "text/plain": [
       "array([16, 27,  5], dtype=int64)"
      ]
     },
     "execution_count": 69,
     "metadata": {},
     "output_type": "execute_result"
    }
   ],
   "source": [
    "train_df[\"article_id_LE\"].apply(lambda r: len(r)).sample(3,replace=True).values"
   ]
  },
  {
   "cell_type": "code",
   "execution_count": 73,
   "metadata": {},
   "outputs": [
    {
     "name": "stdout",
     "output_type": "stream",
     "text": [
      "[56188, 46692, 40080, 86051, 86061]\n",
      "[11546, 12579, 35020, 7987, 38403, 55188, 64979, 17125, 32707, 45401, 32707, 32707, 31621, 47683, 32707, 32707, 45562, 45562, 40299, 89198, 89198, 22626, 22626, 69652, 70812, 85237, 85700]\n",
      "[43091, 28279, 39494, 59362, 50106, 43090, 9469, 10818, 9488, 9469, 10818, 9489, 53835, 57869, 44457, 44444, 67872, 3307, 52688, 14710, 69529, 68304, 69528, 67838, 14689, 52686, 57934, 14709, 62530, 71586, 70875, 71585, 52687, 2950, 42144, 57933, 22278, 64612, 51035, 59472, 64611, 43886, 68345, 68344, 49954, 64185, 35525, 85170, 91844, 80790, 80791, 83205, 77769, 78355, 89017, 95607, 86685, 92237, 77767, 77768, 87101, 91608]\n",
      "[2999, 37344, 32332, 11411, 37344, 48653, 48653, 47539, 47539, 44020, 70123, 46305, 67063, 75393, 75393, 56653, 45616, 71617, 21345, 72252, 72256, 66412, 62443, 74374, 62440, 62443, 60459, 70133, 70133, 86856, 86856, 26937, 26937, 26937, 26937, 52707, 71502, 91787, 91689, 94164, 72850, 88004, 100429, 99356, 100557, 95898]\n",
      "[57782, 55527, 56630, 3108, 38578, 39952, 71750, 74319, 83614, 70092, 17102, 70680, 55951, 75454, 73580, 74843, 79663, 48179, 56769, 68383, 79290, 71599, 52208, 80878, 87659, 100057, 59316, 12742, 53789, 53788, 84689, 84779, 103062, 100636, 81987, 73875, 81988, 38178, 99883, 102372, 94847, 103879, 60051, 94876, 88075]\n",
      "[22590, 14228, 41506, 13312, 6700, 62606, 28278, 64169, 54861, 55663, 46439, 59590, 33071, 9089, 78700, 17565, 2909, 64582, 2910]\n",
      "[1711, 1711, 1711, 1711, 78820, 97308]\n",
      "[15987, 15972, 11006]\n",
      "[43887, 9925, 49821, 17373, 77544, 80050, 76320, 86669, 70999, 66966, 66965, 57336, 66965, 22676, 84644, 18582]\n",
      "[8635, 8952, 39339, 32764, 24233, 39845, 11339, 44137, 35893, 21582, 59541, 340, 31578, 27780, 18320, 58611, 5575, 6631, 30622, 2787, 5959, 73407, 73407, 18232, 3756, 50776, 61561, 61561, 3376, 69342, 10374, 69598, 71142, 71148, 56864, 39196, 48745, 78807, 81084, 58427, 95559, 70126, 74, 74, 75859, 55530, 57005, 98558, 92235, 92235, 101591]\n"
     ]
    }
   ],
   "source": [
    "import numpy as np\n",
    "for c in train_df.values:\n",
    "    print(*c)"
   ]
  },
  {
   "cell_type": "code",
   "execution_count": 11,
   "metadata": {},
   "outputs": [],
   "source": [
    "## Create dataset\n",
    "\n",
    "\n",
    "def create_dataset(df, total_cases: int, portion_positive: float = 0.1):\n",
    "    n_cases_train = round(total_cases * portion_positive)\n",
    "    n_cases_val = total_cases - n_cases_train\n",
    "\n",
    "    train_df = df.groupby(\"customer_id\").agg({\"article_id_LE\": list}).sample(n_cases_train)\n",
    "\n",
    "    # Generate false, new code?\n",
    "    number_articles_per_customer = train_df[\"article_id_LE\"].apply(lambda r: len(r)).sample(n_cases_val,replace=True)\n",
    "    for row in zip(train_df.values:\n",
    "        TOTAL_NUM_ARTICLES = 104546\n",
    "        articles_LEs = set(range(TOTAL_NUM_ARTICLES))-set(row[1])\n",
    "            \n",
    "\n",
    "    \"\"\"\n",
    "    find min and max number of elements in article_id_LE lists\n",
    "    For each customer_id in train_df,\n",
    "        number_items = np.random.randint(min, max)\n",
    "        legit_negative = False\n",
    "        while not legit_negative:\n",
    "            sample nmumber_items number of random article_id_LE numbers\n",
    "            legit_negative = none of sampled items are in train_df[customer]\n",
    "    \"\"\"\n",
    "\n",
    "    # Generate false samples\n",
    "    df_np = df.to_numpy()\n",
    "    val_np = np.empty((n_cases_val, df_np.shape[1]), dtype=object)\n",
    "    for i in range(n_cases_val):\n",
    "        legit_negative = False\n",
    "        # Assure sample is not actually real by checking ID tuples to true df\n",
    "        while not legit_negative:\n",
    "            sample = np.array(\n",
    "                [np.random.choice(df_np[:, col]) for col in range(df_np.shape[1])]\n",
    "            )\n",
    "            legit_negative = (\n",
    "                np.where((df_np[:, 1] == sample[1]) & (df_np[:, 2] == sample[2]))[\n",
    "                    0\n",
    "                ].shape[0]\n",
    "                == 0\n",
    "            )\n",
    "        val_np[i, :] = sample\n",
    "\n",
    "    return train_df, pd.DataFrame(data=val_np, columns=df.columns)\n",
    "\n",
    "\n",
    "train_df, val_df = create_dataset(df, total_cases=10)"
   ]
  },
  {
   "cell_type": "code",
   "execution_count": 15,
   "metadata": {},
   "outputs": [
    {
     "data": {
      "text/html": [
       "<div>\n",
       "<style scoped>\n",
       "    .dataframe tbody tr th:only-of-type {\n",
       "        vertical-align: middle;\n",
       "    }\n",
       "\n",
       "    .dataframe tbody tr th {\n",
       "        vertical-align: top;\n",
       "    }\n",
       "\n",
       "    .dataframe thead th {\n",
       "        text-align: right;\n",
       "    }\n",
       "</style>\n",
       "<table border=\"1\" class=\"dataframe\">\n",
       "  <thead>\n",
       "    <tr style=\"text-align: right;\">\n",
       "      <th></th>\n",
       "      <th>customer_id</th>\n",
       "      <th>article_id</th>\n",
       "    </tr>\n",
       "  </thead>\n",
       "  <tbody>\n",
       "    <tr>\n",
       "      <th>0</th>\n",
       "      <td>00000dbacae5abe5e23885899a1fa44253a17956c6d1c3...</td>\n",
       "      <td>[0625548001, 0176209023, 0627759010, 069713800...</td>\n",
       "    </tr>\n",
       "    <tr>\n",
       "      <th>1</th>\n",
       "      <td>0000423b00ade91418cceaf3b26c6af3dd342b51fd051e...</td>\n",
       "      <td>[0583558001, 0639677008, 0640244003, 052126900...</td>\n",
       "    </tr>\n",
       "    <tr>\n",
       "      <th>2</th>\n",
       "      <td>000058a12d5b43e67d225668fa1f8d618c13dc232df0ca...</td>\n",
       "      <td>[0663713001, 0541518023, 0663713001, 057802000...</td>\n",
       "    </tr>\n",
       "    <tr>\n",
       "      <th>3</th>\n",
       "      <td>00005ca1c9ed5f5146b52ac8639a40ca9d57aeff4d1bd2...</td>\n",
       "      <td>[0742079001, 0732413001]</td>\n",
       "    </tr>\n",
       "    <tr>\n",
       "      <th>4</th>\n",
       "      <td>00006413d8573cd20ed7128e53b7b13819fe5cfc2d801f...</td>\n",
       "      <td>[0634249005, 0677049001, 0698286003, 070770400...</td>\n",
       "    </tr>\n",
       "    <tr>\n",
       "      <th>...</th>\n",
       "      <td>...</td>\n",
       "      <td>...</td>\n",
       "    </tr>\n",
       "    <tr>\n",
       "      <th>1362276</th>\n",
       "      <td>ffffbbf78b6eaac697a8a5dfbfd2bfa8113ee5b403e474...</td>\n",
       "      <td>[0698276003, 0699075005, 0694182002, 072243600...</td>\n",
       "    </tr>\n",
       "    <tr>\n",
       "      <th>1362277</th>\n",
       "      <td>ffffcd5046a6143d29a04fb8c424ce494a76e5cdf4fab5...</td>\n",
       "      <td>[0671695001, 0562245015, 0562245018, 056224500...</td>\n",
       "    </tr>\n",
       "    <tr>\n",
       "      <th>1362278</th>\n",
       "      <td>ffffcf35913a0bee60e8741cb2b4e78b8a98ee5ff2e6a1...</td>\n",
       "      <td>[0568597019, 0484398001, 0484398001, 070108300...</td>\n",
       "    </tr>\n",
       "    <tr>\n",
       "      <th>1362279</th>\n",
       "      <td>ffffd7744cebcf3aca44ae7049d2a94b87074c3d4ffe38...</td>\n",
       "      <td>[0821395003, 0806241002, 0714790020, 086675500...</td>\n",
       "    </tr>\n",
       "    <tr>\n",
       "      <th>1362280</th>\n",
       "      <td>ffffd9ac14e89946416d80e791d064701994755c3ab686...</td>\n",
       "      <td>[0806050001]</td>\n",
       "    </tr>\n",
       "  </tbody>\n",
       "</table>\n",
       "<p>1362281 rows × 2 columns</p>\n",
       "</div>"
      ],
      "text/plain": [
       "                                               customer_id  \\\n",
       "0        00000dbacae5abe5e23885899a1fa44253a17956c6d1c3...   \n",
       "1        0000423b00ade91418cceaf3b26c6af3dd342b51fd051e...   \n",
       "2        000058a12d5b43e67d225668fa1f8d618c13dc232df0ca...   \n",
       "3        00005ca1c9ed5f5146b52ac8639a40ca9d57aeff4d1bd2...   \n",
       "4        00006413d8573cd20ed7128e53b7b13819fe5cfc2d801f...   \n",
       "...                                                    ...   \n",
       "1362276  ffffbbf78b6eaac697a8a5dfbfd2bfa8113ee5b403e474...   \n",
       "1362277  ffffcd5046a6143d29a04fb8c424ce494a76e5cdf4fab5...   \n",
       "1362278  ffffcf35913a0bee60e8741cb2b4e78b8a98ee5ff2e6a1...   \n",
       "1362279  ffffd7744cebcf3aca44ae7049d2a94b87074c3d4ffe38...   \n",
       "1362280  ffffd9ac14e89946416d80e791d064701994755c3ab686...   \n",
       "\n",
       "                                                article_id  \n",
       "0        [0625548001, 0176209023, 0627759010, 069713800...  \n",
       "1        [0583558001, 0639677008, 0640244003, 052126900...  \n",
       "2        [0663713001, 0541518023, 0663713001, 057802000...  \n",
       "3                                 [0742079001, 0732413001]  \n",
       "4        [0634249005, 0677049001, 0698286003, 070770400...  \n",
       "...                                                    ...  \n",
       "1362276  [0698276003, 0699075005, 0694182002, 072243600...  \n",
       "1362277  [0671695001, 0562245015, 0562245018, 056224500...  \n",
       "1362278  [0568597019, 0484398001, 0484398001, 070108300...  \n",
       "1362279  [0821395003, 0806241002, 0714790020, 086675500...  \n",
       "1362280                                       [0806050001]  \n",
       "\n",
       "[1362281 rows x 2 columns]"
      ]
     },
     "execution_count": 15,
     "metadata": {},
     "output_type": "execute_result"
    }
   ],
   "source": [
    "import torch\n",
    "\n",
    "# torch.zeros(2).float()*\n",
    "# len(art_ids)*\n",
    "df.groupby(\"customer_id\").agg({\"article_id\": list}).reset_index()"
   ]
  },
  {
   "cell_type": "code",
   "execution_count": 13,
   "metadata": {},
   "outputs": [
    {
     "ename": "AttributeError",
     "evalue": "'Series' object has no attribute 'target'",
     "output_type": "error",
     "traceback": [
      "\u001b[1;31m---------------------------------------------------------------------------\u001b[0m",
      "\u001b[1;31mAttributeError\u001b[0m                            Traceback (most recent call last)",
      "\u001b[1;32m~\\AppData\\Local\\Temp\\ipykernel_27252\\3640238727.py\u001b[0m in \u001b[0;36m<cell line: 38>\u001b[1;34m()\u001b[0m\n\u001b[0;32m     36\u001b[0m         \u001b[1;32mreturn\u001b[0m \u001b[0marticle_hist\u001b[0m\u001b[1;33m,\u001b[0m \u001b[0mweek_hist\u001b[0m\u001b[1;33m,\u001b[0m \u001b[0mtarget\u001b[0m\u001b[1;33m\u001b[0m\u001b[1;33m\u001b[0m\u001b[0m\n\u001b[0;32m     37\u001b[0m \u001b[1;33m\u001b[0m\u001b[0m\n\u001b[1;32m---> 38\u001b[1;33m \u001b[0mHMDataset\u001b[0m\u001b[1;33m(\u001b[0m\u001b[0mval_df\u001b[0m\u001b[1;33m,\u001b[0m \u001b[1;36m64\u001b[0m\u001b[1;33m)\u001b[0m\u001b[1;33m[\u001b[0m\u001b[1;36m1\u001b[0m\u001b[1;33m]\u001b[0m\u001b[1;33m\u001b[0m\u001b[1;33m\u001b[0m\u001b[0m\n\u001b[0m",
      "\u001b[1;32m~\\AppData\\Local\\Temp\\ipykernel_27252\\3640238727.py\u001b[0m in \u001b[0;36m__getitem__\u001b[1;34m(self, index)\u001b[0m\n\u001b[0;32m     19\u001b[0m         \u001b[1;32melse\u001b[0m\u001b[1;33m:\u001b[0m\u001b[1;33m\u001b[0m\u001b[1;33m\u001b[0m\u001b[0m\n\u001b[0;32m     20\u001b[0m             \u001b[0mtarget\u001b[0m \u001b[1;33m=\u001b[0m \u001b[0mtorch\u001b[0m\u001b[1;33m.\u001b[0m\u001b[0mzeros\u001b[0m\u001b[1;33m(\u001b[0m\u001b[0mlen\u001b[0m\u001b[1;33m(\u001b[0m\u001b[0mart_ids\u001b[0m\u001b[1;33m)\u001b[0m\u001b[1;33m)\u001b[0m\u001b[1;33m.\u001b[0m\u001b[0mfloat\u001b[0m\u001b[1;33m(\u001b[0m\u001b[1;33m)\u001b[0m \u001b[1;31m# TODO pass art_ids as parameter?\u001b[0m\u001b[1;33m\u001b[0m\u001b[1;33m\u001b[0m\u001b[0m\n\u001b[1;32m---> 21\u001b[1;33m             \u001b[1;32mfor\u001b[0m \u001b[0mt\u001b[0m \u001b[1;32min\u001b[0m \u001b[0mrow\u001b[0m\u001b[1;33m.\u001b[0m\u001b[0mtarget\u001b[0m\u001b[1;33m:\u001b[0m\u001b[1;33m\u001b[0m\u001b[1;33m\u001b[0m\u001b[0m\n\u001b[0m\u001b[0;32m     22\u001b[0m                 \u001b[0mtarget\u001b[0m\u001b[1;33m[\u001b[0m\u001b[0mt\u001b[0m\u001b[1;33m]\u001b[0m \u001b[1;33m=\u001b[0m \u001b[1;36m1.0\u001b[0m\u001b[1;33m\u001b[0m\u001b[1;33m\u001b[0m\u001b[0m\n\u001b[0;32m     23\u001b[0m \u001b[1;33m\u001b[0m\u001b[0m\n",
      "\u001b[1;32mc:\\Users\\frede\\Desktop\\Proj\\lib\\site-packages\\pandas\\core\\generic.py\u001b[0m in \u001b[0;36m__getattr__\u001b[1;34m(self, name)\u001b[0m\n\u001b[0;32m   5573\u001b[0m         ):\n\u001b[0;32m   5574\u001b[0m             \u001b[1;32mreturn\u001b[0m \u001b[0mself\u001b[0m\u001b[1;33m[\u001b[0m\u001b[0mname\u001b[0m\u001b[1;33m]\u001b[0m\u001b[1;33m\u001b[0m\u001b[1;33m\u001b[0m\u001b[0m\n\u001b[1;32m-> 5575\u001b[1;33m         \u001b[1;32mreturn\u001b[0m \u001b[0mobject\u001b[0m\u001b[1;33m.\u001b[0m\u001b[0m__getattribute__\u001b[0m\u001b[1;33m(\u001b[0m\u001b[0mself\u001b[0m\u001b[1;33m,\u001b[0m \u001b[0mname\u001b[0m\u001b[1;33m)\u001b[0m\u001b[1;33m\u001b[0m\u001b[1;33m\u001b[0m\u001b[0m\n\u001b[0m\u001b[0;32m   5576\u001b[0m \u001b[1;33m\u001b[0m\u001b[0m\n\u001b[0;32m   5577\u001b[0m     \u001b[1;32mdef\u001b[0m \u001b[0m__setattr__\u001b[0m\u001b[1;33m(\u001b[0m\u001b[0mself\u001b[0m\u001b[1;33m,\u001b[0m \u001b[0mname\u001b[0m\u001b[1;33m:\u001b[0m \u001b[0mstr\u001b[0m\u001b[1;33m,\u001b[0m \u001b[0mvalue\u001b[0m\u001b[1;33m)\u001b[0m \u001b[1;33m->\u001b[0m \u001b[1;32mNone\u001b[0m\u001b[1;33m:\u001b[0m\u001b[1;33m\u001b[0m\u001b[1;33m\u001b[0m\u001b[0m\n",
      "\u001b[1;31mAttributeError\u001b[0m: 'Series' object has no attribute 'target'"
     ]
    }
   ],
   "source": [
    "from torch.utils.data import Dataset, DataLoader\n",
    "import torch\n",
    "from tqdm import tqdm\n",
    "\n",
    "class HMDataset(Dataset):\n",
    "    def __init__(self, df, seq_len, is_test=False):\n",
    "        self.df = df#.reset_index(drop=True)\n",
    "        self.seq_len = seq_len\n",
    "        self.is_test = is_test\n",
    "    \n",
    "    def __len__(self):\n",
    "        return self.df.shape[0]\n",
    "    \n",
    "    def __getitem__(self, index):\n",
    "        row = self.df.iloc[index]\n",
    "        \n",
    "        if self.is_test:\n",
    "            target = torch.zeros(2).float()\n",
    "        else:\n",
    "            target = torch.zeros(len(art_ids)).float() # TODO pass art_ids as parameter?\n",
    "            for t in row.target:\n",
    "                target[t] = 1.0\n",
    "            \n",
    "        article_hist = torch.zeros(self.seq_len).long()\n",
    "        week_hist = torch.ones(self.seq_len).float()\n",
    "        \n",
    "        \n",
    "        if isinstance(row.article_id, list):\n",
    "            if len(row.article_id) >= self.seq_len:\n",
    "                article_hist = torch.LongTensor(row.article_id[-self.seq_len:])\n",
    "                week_hist = (torch.LongTensor(row.week_history[-self.seq_len:]) - row.week)/WEEK_HIST_MAX/2\n",
    "            else:\n",
    "                article_hist[-len(row.article_id):] = torch.LongTensor(row.article_id)\n",
    "                week_hist[-len(row.article_id):] = (torch.LongTensor(row.week_history) - row.week)/WEEK_HIST_MAX/2\n",
    "                \n",
    "        return article_hist, week_hist, target\n",
    "    \n",
    "HMDataset(val_df, 64)[1]"
   ]
  }
 ],
 "metadata": {
  "kernelspec": {
   "display_name": "Python 3.10.6 ('Proj': venv)",
   "language": "python",
   "name": "python3"
  },
  "language_info": {
   "codemirror_mode": {
    "name": "ipython",
    "version": 3
   },
   "file_extension": ".py",
   "mimetype": "text/x-python",
   "name": "python",
   "nbconvert_exporter": "python",
   "pygments_lexer": "ipython3",
   "version": "3.10.6"
  },
  "orig_nbformat": 4,
  "vscode": {
   "interpreter": {
    "hash": "402b62e985bc5250c3cc67917d34a79ef392b62d1143c3e95347f6ab24b3a3fe"
   }
  }
 },
 "nbformat": 4,
 "nbformat_minor": 2
}
